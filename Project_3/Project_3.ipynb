{
  "nbformat": 4,
  "nbformat_minor": 0,
  "metadata": {
    "colab": {
      "name": "Project_3.ipynb",
      "version": "0.3.2",
      "provenance": [],
      "collapsed_sections": []
    },
    "kernelspec": {
      "name": "python3",
      "display_name": "Python 3"
    },
    "accelerator": "GPU"
  },
  "cells": [
    {
      "cell_type": "markdown",
      "metadata": {
        "id": "aNyZv-Ec52ot",
        "colab_type": "text"
      },
      "source": [
        "# **Import Libraries and modules**"
      ]
    },
    {
      "cell_type": "code",
      "metadata": {
        "id": "3m3w1Cw49Zkt",
        "colab_type": "code",
        "colab": {
          "base_uri": "https://localhost:8080/",
          "height": 35
        },
        "outputId": "457b0cc1-92bb-414a-ca44-381ffa4eb388"
      },
      "source": [
        "# Install and Import Keras\n",
        "# https://keras.io/\n",
        "!pip install -q keras\n",
        "import keras"
      ],
      "execution_count": 1,
      "outputs": [
        {
          "output_type": "stream",
          "text": [
            "Using TensorFlow backend.\n"
          ],
          "name": "stderr"
        }
      ]
    },
    {
      "cell_type": "code",
      "metadata": {
        "id": "Eso6UHE080D4",
        "colab_type": "code",
        "colab": {}
      },
      "source": [
        "# Importing the required libraries\n",
        "import numpy as np\n",
        "\n",
        "from keras.models import Sequential\n",
        "from keras.layers import Dense, Dropout, Activation, Flatten, Add\n",
        "from keras.layers import Convolution2D, MaxPooling2D\n",
        "from keras.utils import np_utils\n",
        "from keras.callbacks import ReduceLROnPlateau, CSVLogger, EarlyStopping, ModelCheckpoint\n",
        "\n",
        "from keras.datasets import mnist"
      ],
      "execution_count": 0,
      "outputs": []
    },
    {
      "cell_type": "markdown",
      "metadata": {
        "id": "zByEi95J86RD",
        "colab_type": "text"
      },
      "source": [
        "### Load pre-shuffled MNIST data into train and test sets"
      ]
    },
    {
      "cell_type": "code",
      "metadata": {
        "id": "7eRM0QWN83PV",
        "colab_type": "code",
        "outputId": "81d117a1-2202-4e49-e9ed-258edbd09a16",
        "colab": {
          "base_uri": "https://localhost:8080/",
          "height": 52
        }
      },
      "source": [
        "# Load MNIST into train and test sets\n",
        "(X_train, y_train), (X_test, y_test) = mnist.load_data()"
      ],
      "execution_count": 3,
      "outputs": [
        {
          "output_type": "stream",
          "text": [
            "Downloading data from https://s3.amazonaws.com/img-datasets/mnist.npz\n",
            "11493376/11490434 [==============================] - 1s 0us/step\n"
          ],
          "name": "stdout"
        }
      ]
    },
    {
      "cell_type": "code",
      "metadata": {
        "id": "d3KOoBh_CFca",
        "colab_type": "code",
        "colab": {
          "base_uri": "https://localhost:8080/",
          "height": 124
        },
        "outputId": "8ce64099-516f-4bf0-ea32-0accddb54919"
      },
      "source": [
        "# Connecting Drive to save models\n",
        "from google.colab import drive\n",
        "drive.mount('/content/gdrive')"
      ],
      "execution_count": 56,
      "outputs": [
        {
          "output_type": "stream",
          "text": [
            "Go to this URL in a browser: https://accounts.google.com/o/oauth2/auth?client_id=947318989803-6bn6qk8qdgf4n4g3pfee6491hc0brc4i.apps.googleusercontent.com&redirect_uri=urn%3Aietf%3Awg%3Aoauth%3A2.0%3Aoob&scope=email%20https%3A%2F%2Fwww.googleapis.com%2Fauth%2Fdocs.test%20https%3A%2F%2Fwww.googleapis.com%2Fauth%2Fdrive%20https%3A%2F%2Fwww.googleapis.com%2Fauth%2Fdrive.photos.readonly%20https%3A%2F%2Fwww.googleapis.com%2Fauth%2Fpeopleapi.readonly&response_type=code\n",
            "\n",
            "Enter your authorization code:\n",
            "··········\n",
            "Mounted at /content/gdrive\n"
          ],
          "name": "stdout"
        }
      ]
    },
    {
      "cell_type": "code",
      "metadata": {
        "id": "4a4Be72j8-ZC",
        "colab_type": "code",
        "outputId": "28b2a7ed-da38-473b-eb34-dc6242daf8c2",
        "colab": {
          "base_uri": "https://localhost:8080/",
          "height": 304
        }
      },
      "source": [
        "# Looking at sample images\n",
        "print (X_train.shape)\n",
        "from matplotlib import pyplot as plt\n",
        "%matplotlib inline\n",
        "plt.imshow(X_train[24])"
      ],
      "execution_count": 7,
      "outputs": [
        {
          "output_type": "stream",
          "text": [
            "(60000, 28, 28)\n"
          ],
          "name": "stdout"
        },
        {
          "output_type": "execute_result",
          "data": {
            "text/plain": [
              "<matplotlib.image.AxesImage at 0x7f286058cba8>"
            ]
          },
          "metadata": {
            "tags": []
          },
          "execution_count": 7
        },
        {
          "output_type": "display_data",
          "data": {
            "image/png": "[encoded data removed]",
            "text/plain": [
              "<Figure size 432x288 with 1 Axes>"
            ]
          },
          "metadata": {
            "tags": []
          }
        }
      ]
    },
    {
      "cell_type": "code",
      "metadata": {
        "id": "dkmprriw9AnZ",
        "colab_type": "code",
        "colab": {}
      },
      "source": [
        "# Defining shape of the sets\n",
        "X_train = X_train.reshape(X_train.shape[0], 28, 28,1)\n",
        "X_test = X_test.reshape(X_test.shape[0], 28, 28,1)"
      ],
      "execution_count": 0,
      "outputs": []
    },
    {
      "cell_type": "code",
      "metadata": {
        "id": "X2m4YS4E9CRh",
        "colab_type": "code",
        "colab": {}
      },
      "source": [
        "# Scaling down pixel values from 0-255 to 0-1\n",
        "X_train = X_train.astype('float32')\n",
        "X_test = X_test.astype('float32')\n",
        "X_train /= 255\n",
        "X_test /= 255"
      ],
      "execution_count": 0,
      "outputs": []
    },
    {
      "cell_type": "code",
      "metadata": {
        "id": "0Mn0vAYD9DvB",
        "colab_type": "code",
        "outputId": "1b48763b-6c1d-44d9-91ac-efe41d1a8331",
        "colab": {
          "base_uri": "https://localhost:8080/",
          "height": 35
        }
      },
      "source": [
        "# Inspecting labels\n",
        "y_train[:10]"
      ],
      "execution_count": 10,
      "outputs": [
        {
          "output_type": "execute_result",
          "data": {
            "text/plain": [
              "array([5, 0, 4, 1, 9, 2, 1, 3, 1, 4], dtype=uint8)"
            ]
          },
          "metadata": {
            "tags": []
          },
          "execution_count": 10
        }
      ]
    },
    {
      "cell_type": "code",
      "metadata": {
        "id": "ZG8JiXR39FHC",
        "colab_type": "code",
        "colab": {}
      },
      "source": [
        "# Convert 1-dimensional class arrays to 10-dimensional class matrices\n",
        "Y_train = np_utils.to_categorical(y_train, 10)\n",
        "Y_test = np_utils.to_categorical(y_test, 10)"
      ],
      "execution_count": 0,
      "outputs": []
    },
    {
      "cell_type": "code",
      "metadata": {
        "id": "fYlFRvKS9HMB",
        "colab_type": "code",
        "outputId": "434bba77-968a-467e-a6d4-16fbe29a4e2e",
        "colab": {
          "base_uri": "https://localhost:8080/",
          "height": 191
        }
      },
      "source": [
        "# Inspectingt the categorized labels\n",
        "Y_train[20:30]\n"
      ],
      "execution_count": 15,
      "outputs": [
        {
          "output_type": "execute_result",
          "data": {
            "text/plain": [
              "array([[0., 0., 0., 0., 1., 0., 0., 0., 0., 0.],\n",
              "       [1., 0., 0., 0., 0., 0., 0., 0., 0., 0.],\n",
              "       [0., 0., 0., 0., 0., 0., 0., 0., 0., 1.],\n",
              "       [0., 1., 0., 0., 0., 0., 0., 0., 0., 0.],\n",
              "       [0., 1., 0., 0., 0., 0., 0., 0., 0., 0.],\n",
              "       [0., 0., 1., 0., 0., 0., 0., 0., 0., 0.],\n",
              "       [0., 0., 0., 0., 1., 0., 0., 0., 0., 0.],\n",
              "       [0., 0., 0., 1., 0., 0., 0., 0., 0., 0.],\n",
              "       [0., 0., 1., 0., 0., 0., 0., 0., 0., 0.],\n",
              "       [0., 0., 0., 0., 0., 0., 0., 1., 0., 0.]], dtype=float32)"
            ]
          },
          "metadata": {
            "tags": []
          },
          "execution_count": 15
        }
      ]
    },
    {
      "cell_type": "code",
      "metadata": {
        "id": "osKqT73Q9JJB",
        "colab_type": "code",
        "outputId": "1fc5573c-3772-4f1c-9b55-03e8f80046b0",
        "colab": {
          "base_uri": "https://localhost:8080/",
          "height": 280
        }
      },
      "source": [
        "# Building the infrastructure\n",
        "from keras.layers import Activation\n",
        "model = Sequential()\n",
        "\n",
        " \n",
        "model.add(Convolution2D(16, 3, 3, activation='relu', input_shape=(28,28,1)))\n",
        "model.add(Convolution2D(32, 3, 3, activation='relu', input_shape=(26,26,1)))\n",
        "\n",
        "model.add(MaxPooling2D(2, 2, input_shape = (24, 24, 1)))\n",
        "model.add(Convolution2D(16, 1, 1, activation='relu', input_shape=(12,12,1)))\n",
        "model.add(Convolution2D(32, 3, 3, activation='relu', input_shape=(12,12,1)))\n",
        "\n",
        "model.add(MaxPooling2D(2, 2, input_shape = (10, 10, 1)))\n",
        "model.add(Convolution2D(16, 1, 1, activation='relu', input_shape=(5,5,1)))\n",
        "model.add(Convolution2D(32, 3, 3, activation='relu', input_shape=(5,5,1)))\n",
        "\n",
        "model.add(Convolution2D(10, 3, 3, activation='relu', input_shape=(3,3,1)))\n",
        "#model.add(Convolution2D(10, 2, 2, activation='relu', input_shape=(2,2,1)))\n",
        "\n",
        "#model.add(Convolution2D(64, 3, 3, activation='relu', input_shape=(8,8,1)))\n",
        "\n",
        "model.add(Flatten())\n",
        "model.add(Dense(10, input_dim=10))\n",
        "model.add(Activation('softmax'))"
      ],
      "execution_count": 49,
      "outputs": [
        {
          "output_type": "stream",
          "text": [
            "/usr/local/lib/python3.6/dist-packages/ipykernel_launcher.py:5: UserWarning: Update your `Conv2D` call to the Keras 2 API: `Conv2D(16, (3, 3), activation=\"relu\", input_shape=(28, 28, 1...)`\n",
            "  \"\"\"\n",
            "/usr/local/lib/python3.6/dist-packages/ipykernel_launcher.py:6: UserWarning: Update your `Conv2D` call to the Keras 2 API: `Conv2D(32, (3, 3), activation=\"relu\", input_shape=(26, 26, 1...)`\n",
            "  \n",
            "/usr/local/lib/python3.6/dist-packages/ipykernel_launcher.py:9: UserWarning: Update your `Conv2D` call to the Keras 2 API: `Conv2D(16, (1, 1), activation=\"relu\", input_shape=(12, 12, 1...)`\n",
            "  if __name__ == '__main__':\n",
            "/usr/local/lib/python3.6/dist-packages/ipykernel_launcher.py:10: UserWarning: Update your `Conv2D` call to the Keras 2 API: `Conv2D(32, (3, 3), activation=\"relu\", input_shape=(12, 12, 1...)`\n",
            "  # Remove the CWD from sys.path while we load stuff.\n",
            "/usr/local/lib/python3.6/dist-packages/ipykernel_launcher.py:13: UserWarning: Update your `Conv2D` call to the Keras 2 API: `Conv2D(16, (1, 1), activation=\"relu\", input_shape=(5, 5, 1))`\n",
            "  del sys.path[0]\n",
            "/usr/local/lib/python3.6/dist-packages/ipykernel_launcher.py:14: UserWarning: Update your `Conv2D` call to the Keras 2 API: `Conv2D(32, (3, 3), activation=\"relu\", input_shape=(5, 5, 1))`\n",
            "  \n",
            "/usr/local/lib/python3.6/dist-packages/ipykernel_launcher.py:16: UserWarning: Update your `Conv2D` call to the Keras 2 API: `Conv2D(10, (3, 3), activation=\"relu\", input_shape=(3, 3, 1))`\n",
            "  app.launch_new_instance()\n"
          ],
          "name": "stderr"
        }
      ]
    },
    {
      "cell_type": "code",
      "metadata": {
        "id": "TzdAYg1k9K7Z",
        "colab_type": "code",
        "outputId": "b8478dea-5d8b-4e6a-bf3a-c3510854b6cc",
        "colab": {
          "base_uri": "https://localhost:8080/",
          "height": 555
        }
      },
      "source": [
        "# Checking the model\n",
        "model.summary()"
      ],
      "execution_count": 51,
      "outputs": [
        {
          "output_type": "stream",
          "text": [
            "_________________________________________________________________\n",
            "Layer (type)                 Output Shape              Param #   \n",
            "=================================================================\n",
            "conv2d_85 (Conv2D)           (None, 26, 26, 16)        160       \n",
            "_________________________________________________________________\n",
            "conv2d_86 (Conv2D)           (None, 24, 24, 32)        4640      \n",
            "_________________________________________________________________\n",
            "max_pooling2d_22 (MaxPooling (None, 12, 12, 32)        0         \n",
            "_________________________________________________________________\n",
            "conv2d_87 (Conv2D)           (None, 12, 12, 16)        528       \n",
            "_________________________________________________________________\n",
            "conv2d_88 (Conv2D)           (None, 10, 10, 32)        4640      \n",
            "_________________________________________________________________\n",
            "max_pooling2d_23 (MaxPooling (None, 5, 5, 32)          0         \n",
            "_________________________________________________________________\n",
            "conv2d_89 (Conv2D)           (None, 5, 5, 16)          528       \n",
            "_________________________________________________________________\n",
            "conv2d_90 (Conv2D)           (None, 3, 3, 32)          4640      \n",
            "_________________________________________________________________\n",
            "conv2d_91 (Conv2D)           (None, 1, 1, 10)          2890      \n",
            "_________________________________________________________________\n",
            "flatten_17 (Flatten)         (None, 10)                0         \n",
            "_________________________________________________________________\n",
            "dense_3 (Dense)              (None, 10)                110       \n",
            "_________________________________________________________________\n",
            "activation_16 (Activation)   (None, 10)                0         \n",
            "=================================================================\n",
            "Total params: 18,136\n",
            "Trainable params: 18,136\n",
            "Non-trainable params: 0\n",
            "_________________________________________________________________\n"
          ],
          "name": "stdout"
        }
      ]
    },
    {
      "cell_type": "code",
      "metadata": {
        "id": "Zp6SuGrL9M3h",
        "colab_type": "code",
        "colab": {}
      },
      "source": [
        "# Compiling the model\n",
        "model.compile(loss='categorical_crossentropy',\n",
        "             optimizer='adam',\n",
        "             metrics=['accuracy'])"
      ],
      "execution_count": 0,
      "outputs": []
    },
    {
      "cell_type": "code",
      "metadata": {
        "id": "_WCBH6WW_zoh",
        "colab_type": "code",
        "colab": {}
      },
      "source": [
        "#lr_reducer = ReduceLROnPlateau(factor=np.sqrt(0.1), cooldown=0, patience=5, min_lr=0.5e-6)\n",
        "early_stopper = EarlyStopping(min_delta=0.001, patience=10)\n",
        "csv_logger = CSVLogger('/content/gdrive/My Drive/EVA/P3/Try2/mnist.csv')\n",
        "\n",
        "filepath=\"/content/gdrive/My Drive/EVA/P3/Try2/epochs-{epoch:03d}-acc-{acc:.3f}.hdf5\"\n",
        "checkpoint = ModelCheckpoint(filepath, monitor='acc', verbose=1, save_best_only=True, mode='max')"
      ],
      "execution_count": 0,
      "outputs": []
    },
    {
      "cell_type": "code",
      "metadata": {
        "id": "4xWoKhPY9Of5",
        "colab_type": "code",
        "outputId": "4be54c63-91e0-464d-cb5f-a63ceb800226",
        "colab": {
          "base_uri": "https://localhost:8080/",
          "height": 763
        }
      },
      "source": [
        "# Training the model\n",
        "model.fit(X_train, Y_train, batch_size=32, nb_epoch=10, verbose=1, callbacks=[csv_logger, checkpoint])"
      ],
      "execution_count": 67,
      "outputs": [
        {
          "output_type": "stream",
          "text": [
            "/usr/local/lib/python3.6/dist-packages/ipykernel_launcher.py:1: UserWarning: The `nb_epoch` argument in `fit` has been renamed `epochs`.\n",
            "  \"\"\"Entry point for launching an IPython kernel.\n"
          ],
          "name": "stderr"
        },
        {
          "output_type": "stream",
          "text": [
            "Epoch 1/10\n",
            "60000/60000 [==============================] - 11s 188us/step - loss: 0.0385 - acc: 0.9880\n",
            "\n",
            "Epoch 00001: acc improved from -inf to 0.98805, saving model to /content/gdrive/My Drive/EVA/P3/Try2/epochs-001-acc-0.988.hdf5\n",
            "Epoch 2/10\n",
            "60000/60000 [==============================] - 11s 183us/step - loss: 0.0335 - acc: 0.9896\n",
            "\n",
            "Epoch 00002: acc improved from 0.98805 to 0.98958, saving model to /content/gdrive/My Drive/EVA/P3/Try2/epochs-002-acc-0.990.hdf5\n",
            "Epoch 3/10\n",
            "60000/60000 [==============================] - 12s 193us/step - loss: 0.0264 - acc: 0.9914\n",
            "\n",
            "Epoch 00003: acc improved from 0.98958 to 0.99142, saving model to /content/gdrive/My Drive/EVA/P3/Try2/epochs-003-acc-0.991.hdf5\n",
            "Epoch 4/10\n",
            "60000/60000 [==============================] - 11s 177us/step - loss: 0.0238 - acc: 0.9921\n",
            "\n",
            "Epoch 00004: acc improved from 0.99142 to 0.99213, saving model to /content/gdrive/My Drive/EVA/P3/Try2/epochs-004-acc-0.992.hdf5\n",
            "Epoch 5/10\n",
            "60000/60000 [==============================] - 11s 177us/step - loss: 0.0212 - acc: 0.9931\n",
            "\n",
            "Epoch 00005: acc improved from 0.99213 to 0.99310, saving model to /content/gdrive/My Drive/EVA/P3/Try2/epochs-005-acc-0.993.hdf5\n",
            "Epoch 6/10\n",
            "60000/60000 [==============================] - 11s 176us/step - loss: 0.0183 - acc: 0.9939\n",
            "\n",
            "Epoch 00006: acc improved from 0.99310 to 0.99385, saving model to /content/gdrive/My Drive/EVA/P3/Try2/epochs-006-acc-0.994.hdf5\n",
            "Epoch 7/10\n",
            "60000/60000 [==============================] - 11s 177us/step - loss: 0.0177 - acc: 0.9940\n",
            "\n",
            "Epoch 00007: acc improved from 0.99385 to 0.99398, saving model to /content/gdrive/My Drive/EVA/P3/Try2/epochs-007-acc-0.994.hdf5\n",
            "Epoch 8/10\n",
            "60000/60000 [==============================] - 11s 186us/step - loss: 0.0165 - acc: 0.9947\n",
            "\n",
            "Epoch 00008: acc improved from 0.99398 to 0.99470, saving model to /content/gdrive/My Drive/EVA/P3/Try2/epochs-008-acc-0.995.hdf5\n",
            "Epoch 9/10\n",
            "60000/60000 [==============================] - 11s 179us/step - loss: 0.0139 - acc: 0.9957\n",
            "\n",
            "Epoch 00009: acc improved from 0.99470 to 0.99568, saving model to /content/gdrive/My Drive/EVA/P3/Try2/epochs-009-acc-0.996.hdf5\n",
            "Epoch 10/10\n",
            "60000/60000 [==============================] - 12s 198us/step - loss: 0.0137 - acc: 0.9954\n",
            "\n",
            "Epoch 00010: acc did not improve from 0.99568\n"
          ],
          "name": "stdout"
        },
        {
          "output_type": "execute_result",
          "data": {
            "text/plain": [
              "<keras.callbacks.History at 0x7f281b6f8f28>"
            ]
          },
          "metadata": {
            "tags": []
          },
          "execution_count": 67
        }
      ]
    },
    {
      "cell_type": "code",
      "metadata": {
        "id": "9UzmwbPKFAMv",
        "colab_type": "code",
        "colab": {}
      },
      "source": [
        "# Loading best model from the initial training\n",
        "#model.load_weights(\"/content/gdrive/My Drive/EVA/P3/Try2/epochs-009-acc-0.996.hdf5\")\n",
        "model.load_weights(\"/content/gdrive/My Drive/EVA/P3/Try2/epochs-019-acc-0.998.hdf5\")"
      ],
      "execution_count": 0,
      "outputs": []
    },
    {
      "cell_type": "code",
      "metadata": {
        "id": "ZrYdxK41FPPB",
        "colab_type": "code",
        "colab": {
          "base_uri": "https://localhost:8080/",
          "height": 1476
        },
        "outputId": "c884a648-2541-411d-ab46-0235b543ec2a"
      },
      "source": [
        "# Continuing to train the model again and again\n",
        "model.fit(X_train, Y_train, batch_size=32, nb_epoch=20, verbose=1, callbacks=[csv_logger, checkpoint])"
      ],
      "execution_count": 77,
      "outputs": [
        {
          "output_type": "stream",
          "text": [
            "Epoch 1/20\n",
            "  896/60000 [..............................] - ETA: 11s - loss: 3.2370e-04 - acc: 1.0000"
          ],
          "name": "stdout"
        },
        {
          "output_type": "stream",
          "text": [
            "/usr/local/lib/python3.6/dist-packages/ipykernel_launcher.py:1: UserWarning: The `nb_epoch` argument in `fit` has been renamed `epochs`.\n",
            "  \"\"\"Entry point for launching an IPython kernel.\n"
          ],
          "name": "stderr"
        },
        {
          "output_type": "stream",
          "text": [
            "60000/60000 [==============================] - 11s 176us/step - loss: 0.0072 - acc: 0.9977\n",
            "\n",
            "Epoch 00001: acc did not improve from 0.99790\n",
            "Epoch 2/20\n",
            "60000/60000 [==============================] - 11s 183us/step - loss: 0.0063 - acc: 0.9980\n",
            "\n",
            "Epoch 00002: acc improved from 0.99790 to 0.99803, saving model to /content/gdrive/My Drive/EVA/P3/Try2/epochs-002-acc-0.998.hdf5\n",
            "Epoch 3/20\n",
            "60000/60000 [==============================] - 12s 203us/step - loss: 0.0072 - acc: 0.9975\n",
            "\n",
            "Epoch 00003: acc did not improve from 0.99803\n",
            "Epoch 4/20\n",
            "60000/60000 [==============================] - 11s 176us/step - loss: 0.0081 - acc: 0.9975\n",
            "\n",
            "Epoch 00004: acc did not improve from 0.99803\n",
            "Epoch 5/20\n",
            "60000/60000 [==============================] - 11s 178us/step - loss: 0.0074 - acc: 0.9976\n",
            "\n",
            "Epoch 00005: acc did not improve from 0.99803\n",
            "Epoch 6/20\n",
            "60000/60000 [==============================] - 11s 176us/step - loss: 0.0056 - acc: 0.9982\n",
            "\n",
            "Epoch 00006: acc improved from 0.99803 to 0.99817, saving model to /content/gdrive/My Drive/EVA/P3/Try2/epochs-006-acc-0.998.hdf5\n",
            "Epoch 7/20\n",
            "60000/60000 [==============================] - 11s 176us/step - loss: 0.0069 - acc: 0.9980\n",
            "\n",
            "Epoch 00007: acc did not improve from 0.99817\n",
            "Epoch 8/20\n",
            "60000/60000 [==============================] - 11s 176us/step - loss: 0.0063 - acc: 0.9980\n",
            "\n",
            "Epoch 00008: acc did not improve from 0.99817\n",
            "Epoch 9/20\n",
            "60000/60000 [==============================] - 11s 176us/step - loss: 0.0058 - acc: 0.9980\n",
            "\n",
            "Epoch 00009: acc did not improve from 0.99817\n",
            "Epoch 10/20\n",
            "60000/60000 [==============================] - 12s 197us/step - loss: 0.0069 - acc: 0.9979\n",
            "\n",
            "Epoch 00010: acc did not improve from 0.99817\n",
            "Epoch 11/20\n",
            "60000/60000 [==============================] - 11s 181us/step - loss: 0.0059 - acc: 0.9980\n",
            "\n",
            "Epoch 00011: acc did not improve from 0.99817\n",
            "Epoch 12/20\n",
            "60000/60000 [==============================] - 11s 175us/step - loss: 0.0052 - acc: 0.9984\n",
            "\n",
            "Epoch 00012: acc improved from 0.99817 to 0.99838, saving model to /content/gdrive/My Drive/EVA/P3/Try2/epochs-012-acc-0.998.hdf5\n",
            "Epoch 13/20\n",
            "60000/60000 [==============================] - 11s 175us/step - loss: 0.0070 - acc: 0.9978\n",
            "\n",
            "Epoch 00013: acc did not improve from 0.99838\n",
            "Epoch 14/20\n",
            "60000/60000 [==============================] - 11s 175us/step - loss: 0.0063 - acc: 0.9981\n",
            "\n",
            "Epoch 00014: acc did not improve from 0.99838\n",
            "Epoch 15/20\n",
            "60000/60000 [==============================] - 11s 175us/step - loss: 0.0048 - acc: 0.9985\n",
            "\n",
            "Epoch 00015: acc improved from 0.99838 to 0.99850, saving model to /content/gdrive/My Drive/EVA/P3/Try2/epochs-015-acc-0.999.hdf5\n",
            "Epoch 16/20\n",
            "60000/60000 [==============================] - 11s 176us/step - loss: 0.0076 - acc: 0.9977\n",
            "\n",
            "Epoch 00016: acc did not improve from 0.99850\n",
            "Epoch 17/20\n",
            "60000/60000 [==============================] - 11s 177us/step - loss: 0.0055 - acc: 0.9983\n",
            "\n",
            "Epoch 00017: acc did not improve from 0.99850\n",
            "Epoch 18/20\n",
            "60000/60000 [==============================] - 12s 195us/step - loss: 0.0047 - acc: 0.9985\n",
            "\n",
            "Epoch 00018: acc improved from 0.99850 to 0.99853, saving model to /content/gdrive/My Drive/EVA/P3/Try2/epochs-018-acc-0.999.hdf5\n",
            "Epoch 19/20\n",
            "60000/60000 [==============================] - 11s 175us/step - loss: 0.0049 - acc: 0.9986\n",
            "\n",
            "Epoch 00019: acc improved from 0.99853 to 0.99860, saving model to /content/gdrive/My Drive/EVA/P3/Try2/epochs-019-acc-0.999.hdf5\n",
            "Epoch 20/20\n",
            "60000/60000 [==============================] - 11s 175us/step - loss: 0.0066 - acc: 0.9978\n",
            "\n",
            "Epoch 00020: acc did not improve from 0.99860\n"
          ],
          "name": "stdout"
        },
        {
          "output_type": "execute_result",
          "data": {
            "text/plain": [
              "<keras.callbacks.History at 0x7f281b5d5588>"
            ]
          },
          "metadata": {
            "tags": []
          },
          "execution_count": 77
        }
      ]
    },
    {
      "cell_type": "code",
      "metadata": {
        "id": "AtsH-lLk-eLb",
        "colab_type": "code",
        "colab": {}
      },
      "source": [
        "# Evaluating the model on the test data\n",
        "score = model.evaluate(X_test, Y_test, verbose=0)"
      ],
      "execution_count": 0,
      "outputs": []
    },
    {
      "cell_type": "code",
      "metadata": {
        "id": "mkX8JMv79q9r",
        "colab_type": "code",
        "outputId": "0fa791cf-02a3-4bb9-9b30-cf6f57c114c8",
        "colab": {
          "base_uri": "https://localhost:8080/",
          "height": 35
        }
      },
      "source": [
        "# Printing test score\n",
        "print(score)"
      ],
      "execution_count": 79,
      "outputs": [
        {
          "output_type": "stream",
          "text": [
            "[0.05155126029718833, 0.9915]\n"
          ],
          "name": "stdout"
        }
      ]
    },
    {
      "cell_type": "code",
      "metadata": {
        "id": "OCWoJkwE9suh",
        "colab_type": "code",
        "colab": {}
      },
      "source": [
        "# Running the model on test data\n",
        "y_pred = model.predict(X_test)"
      ],
      "execution_count": 0,
      "outputs": []
    },
    {
      "cell_type": "code",
      "metadata": {
        "id": "Ym7iCFBm9uBs",
        "colab_type": "code",
        "outputId": "89bd5c59-08f9-410b-e50f-93686adaa04f",
        "colab": {
          "base_uri": "https://localhost:8080/",
          "height": 347
        }
      },
      "source": [
        "# Printing values of predictions vs actual labels in test\n",
        "print(y_pred[:9])\n",
        "print(y_test[:9])"
      ],
      "execution_count": 82,
      "outputs": [
        {
          "output_type": "stream",
          "text": [
            "[[1.3884860e-20 4.6642823e-19 1.7832854e-14 4.3665459e-15 1.0737637e-24\n",
            "  5.7174253e-23 2.9551734e-37 1.0000000e+00 7.6392620e-25 3.8623131e-20]\n",
            " [1.4812282e-23 7.4469110e-26 1.0000000e+00 7.2951566e-20 3.6447465e-27\n",
            "  3.0650028e-30 1.6514207e-31 8.2026688e-19 3.8172756e-18 1.3142316e-27]\n",
            " [4.9963056e-17 1.0000000e+00 2.5534362e-13 2.5630941e-12 3.2551731e-13\n",
            "  7.2420840e-13 8.2142062e-12 2.6521042e-11 1.0832510e-09 9.1134730e-17]\n",
            " [1.0000000e+00 1.2619311e-15 4.4466209e-17 8.2553667e-21 4.8205323e-21\n",
            "  2.3088598e-15 9.1809459e-12 2.4238072e-19 7.7634773e-16 5.4313064e-13]\n",
            " [7.7643086e-23 1.5776501e-15 9.5731153e-19 9.7692984e-20 1.0000000e+00\n",
            "  1.8453587e-17 1.3970368e-17 1.8125533e-18 2.4439796e-14 7.2392283e-12]\n",
            " [4.6047945e-18 1.0000000e+00 1.4634009e-13 1.4574260e-13 6.4439952e-13\n",
            "  8.1101838e-15 1.7599798e-14 2.2082380e-10 2.2505239e-11 2.3475272e-16]\n",
            " [2.9430042e-35 8.2932118e-21 4.7882349e-23 2.6043974e-33 1.0000000e+00\n",
            "  5.6108353e-25 1.8948845e-27 1.4368193e-20 5.5343163e-15 1.3641070e-17]\n",
            " [4.8631647e-15 9.1387069e-14 8.0482503e-11 1.9645081e-06 9.4965340e-05\n",
            "  1.2600435e-10 6.4396786e-21 4.9518017e-16 1.2103196e-05 9.9989092e-01]\n",
            " [3.8161739e-17 1.8519254e-17 1.3443140e-15 1.6079831e-14 2.9159500e-21\n",
            "  9.9984431e-01 1.4993429e-04 7.1078820e-13 5.7094303e-06 6.2552460e-15]]\n",
            "[7 2 1 0 4 1 4 9 5]\n"
          ],
          "name": "stdout"
        }
      ]
    },
    {
      "cell_type": "code",
      "metadata": {
        "id": "CT--y98_dr2T",
        "colab_type": "code",
        "colab": {}
      },
      "source": [
        "# Creating a dictionary of layers\n",
        "layer_dict = dict([(layer.name, layer) for layer in model.layers])"
      ],
      "execution_count": 0,
      "outputs": []
    },
    {
      "cell_type": "code",
      "metadata": {
        "id": "2GY4Upv4dsUR",
        "colab_type": "code",
        "outputId": "2b766361-e99e-4250-81b9-5b2c82af933c",
        "colab": {
          "base_uri": "https://localhost:8080/",
          "height": 837
        }
      },
      "source": [
        "# Visualizing the layers\n",
        "import numpy as np\n",
        "from matplotlib import pyplot as plt\n",
        "from keras import backend as K\n",
        "%matplotlib inline\n",
        "# util function to convert a tensor into a valid image\n",
        "def deprocess_image(x):\n",
        "    # normalize tensor: center on 0., ensure std is 0.1\n",
        "    x -= x.mean()\n",
        "    x /= (x.std() + 1e-5)\n",
        "    x *= 0.1\n",
        "\n",
        "    # clip to [0, 1]\n",
        "    x += 0.5\n",
        "    x = np.clip(x, 0, 1)\n",
        "\n",
        "    # convert to RGB array\n",
        "    x *= 255\n",
        "    #x = x.transpose((1, 2, 0))\n",
        "    x = np.clip(x, 0, 255).astype('uint8')\n",
        "    return x\n",
        "\n",
        "def vis_img_in_filter(img = np.array(X_train[2]).reshape((1, 28, 28, 1)).astype(np.float64), \n",
        "                      layer_name = 'conv2d_86'):\n",
        "    layer_output = layer_dict[layer_name].output\n",
        "    img_ascs = list()\n",
        "    for filter_index in range(layer_output.shape[3]):\n",
        "        # build a loss function that maximizes the activation\n",
        "        # of the nth filter of the layer considered\n",
        "        loss = K.mean(layer_output[:, :, :, filter_index])\n",
        "\n",
        "        # compute the gradient of the input picture wrt this loss\n",
        "        grads = K.gradients(loss, model.input)[0]\n",
        "\n",
        "        # normalization trick: we normalize the gradient\n",
        "        grads /= (K.sqrt(K.mean(K.square(grads))) + 1e-5)\n",
        "\n",
        "        # this function returns the loss and grads given the input picture\n",
        "        iterate = K.function([model.input], [loss, grads])\n",
        "\n",
        "        # step size for gradient ascent\n",
        "        step = 5.\n",
        "\n",
        "        img_asc = np.array(img)\n",
        "        # run gradient ascent for 20 steps\n",
        "        for i in range(20):\n",
        "            loss_value, grads_value = iterate([img_asc])\n",
        "            img_asc += grads_value * step\n",
        "\n",
        "        img_asc = img_asc[0]\n",
        "        img_ascs.append(deprocess_image(img_asc).reshape((28, 28)))\n",
        "        \n",
        "    if layer_output.shape[3] >= 35:\n",
        "        plot_x, plot_y = 6, 6\n",
        "    elif layer_output.shape[3] >= 23:\n",
        "        plot_x, plot_y = 4, 6\n",
        "    elif layer_output.shape[3] >= 11:\n",
        "        plot_x, plot_y = 2, 6\n",
        "    else:\n",
        "        plot_x, plot_y = 1, 2\n",
        "    fig, ax = plt.subplots(plot_x, plot_y, figsize = (12, 12))\n",
        "    ax[0, 0].imshow(img.reshape((28, 28)), cmap = 'gray')\n",
        "    ax[0, 0].set_title('Input image')\n",
        "    fig.suptitle('Input image and %s filters' % (layer_name,))\n",
        "    fig.tight_layout(pad = 0.3, rect = [0, 0, 0.9, 0.9])\n",
        "    for (x, y) in [(i, j) for i in range(plot_x) for j in range(plot_y)]:\n",
        "        if x == 0 and y == 0:\n",
        "            continue\n",
        "        ax[x, y].imshow(img_ascs[x * plot_y + y - 1], cmap = 'gray')\n",
        "        ax[x, y].set_title('filter %d' % (x * plot_y + y - 1))\n",
        "\n",
        "vis_img_in_filter()"
      ],
      "execution_count": 87,
      "outputs": [
        {
          "output_type": "display_data",
          "data": {
            "image/png": "[encoded data removed]",
            "text/plain": [
              "<Figure size 864x864 with 24 Axes>"
            ]
          },
          "metadata": {
            "tags": []
          }
        }
      ]
    },
    {
      "cell_type": "code",
      "metadata": {
        "id": "9tvptcn8dxvp",
        "colab_type": "code",
        "colab": {}
      },
      "source": [
        ""
      ],
      "execution_count": 0,
      "outputs": []
    }
  ]
}