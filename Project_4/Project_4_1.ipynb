{
  "nbformat": 4,
  "nbformat_minor": 0,
  "metadata": {
    "colab": {
      "name": "Project 4 - First.ipynb",
      "version": "0.3.2",
      "provenance": [],
      "collapsed_sections": []
    },
    "kernelspec": {
      "name": "python3",
      "display_name": "Python 3"
    },
    "accelerator": "GPU"
  },
  "cells": [
    {
      "cell_type": "markdown",
      "metadata": {
        "id": "aNyZv-Ec52ot",
        "colab_type": "text"
      },
      "source": [
        "##First Iteration - Vanilla Network\n",
        "\n",
        "I am using the network from Assignment 3, without MaxPooling.\n",
        "\n",
        "**Expectations:** Since it is an easy dataset, expect the training accuracy to be 98+ and validation accuracy to be 95+.\n",
        "\n",
        "**Result**:\n",
        "- Parameters: 51,218\n",
        "- Epochs Run: 10\n",
        "- Best Epoch: 7\n",
        "- Training Accuracy: 99.43\n",
        "- Validation Accuracy: 98.73\n"
      ]
    },
    {
      "cell_type": "code",
      "metadata": {
        "id": "3m3w1Cw49Zkt",
        "colab_type": "code",
        "colab": {}
      },
      "source": [
        "# Install and Import Keras\n",
        "# https://keras.io/\n",
        "!pip install -q keras\n",
        "import keras"
      ],
      "execution_count": 0,
      "outputs": []
    },
    {
      "cell_type": "code",
      "metadata": {
        "id": "Eso6UHE080D4",
        "colab_type": "code",
        "colab": {}
      },
      "source": [
        "# Importing the required libraries\n",
        "import numpy as np\n",
        "\n",
        "from keras.models import Sequential\n",
        "from keras.layers import Dense, Dropout, Activation, Flatten, Add\n",
        "from keras.layers import Convolution2D, MaxPooling2D\n",
        "from keras.utils import np_utils\n",
        "from keras.callbacks import ReduceLROnPlateau, CSVLogger, EarlyStopping, ModelCheckpoint\n",
        "\n",
        "from keras.datasets import mnist"
      ],
      "execution_count": 0,
      "outputs": []
    },
    {
      "cell_type": "markdown",
      "metadata": {
        "id": "zByEi95J86RD",
        "colab_type": "text"
      },
      "source": [
        "### Load pre-shuffled MNIST data into train and test sets"
      ]
    },
    {
      "cell_type": "code",
      "metadata": {
        "id": "7eRM0QWN83PV",
        "colab_type": "code",
        "colab": {
          "base_uri": "https://localhost:8080/",
          "height": 52
        },
        "outputId": "c6ae0c86-1fd6-43f5-8e78-8efbabe46fc3"
      },
      "source": [
        "# Load MNIST into train and test sets\n",
        "(X_train, y_train), (X_test, y_test) = mnist.load_data()"
      ],
      "execution_count": 3,
      "outputs": [
        {
          "output_type": "stream",
          "text": [
            "Downloading data from https://s3.amazonaws.com/img-datasets/mnist.npz\n",
            "11493376/11490434 [==============================] - 1s 0us/step\n"
          ],
          "name": "stdout"
        }
      ]
    },
    {
      "cell_type": "code",
      "metadata": {
        "id": "d3KOoBh_CFca",
        "colab_type": "code",
        "outputId": "460f0f36-2882-4be3-dc29-cfa3793b03b5",
        "colab": {
          "base_uri": "https://localhost:8080/",
          "height": 124
        }
      },
      "source": [
        "# Connecting Drive to save models\n",
        "from google.colab import drive\n",
        "drive.mount('/content/gdrive')"
      ],
      "execution_count": 4,
      "outputs": [
        {
          "output_type": "stream",
          "text": [
            "Go to this URL in a browser: https://accounts.google.com/o/oauth2/auth?client_id=947318989803-6bn6qk8qdgf4n4g3pfee6491hc0brc4i.apps.googleusercontent.com&redirect_uri=urn%3Aietf%3Awg%3Aoauth%3A2.0%3Aoob&scope=email%20https%3A%2F%2Fwww.googleapis.com%2Fauth%2Fdocs.test%20https%3A%2F%2Fwww.googleapis.com%2Fauth%2Fdrive%20https%3A%2F%2Fwww.googleapis.com%2Fauth%2Fdrive.photos.readonly%20https%3A%2F%2Fwww.googleapis.com%2Fauth%2Fpeopleapi.readonly&response_type=code\n",
            "\n",
            "Enter your authorization code:\n",
            "··········\n",
            "Mounted at /content/gdrive\n"
          ],
          "name": "stdout"
        }
      ]
    },
    {
      "cell_type": "code",
      "metadata": {
        "id": "4a4Be72j8-ZC",
        "colab_type": "code",
        "outputId": "589be95b-a481-4646-c22a-4a7a52443221",
        "colab": {
          "base_uri": "https://localhost:8080/",
          "height": 304
        }
      },
      "source": [
        "# Looking at sample images\n",
        "print (X_train.shape)\n",
        "from matplotlib import pyplot as plt\n",
        "%matplotlib inline\n",
        "plt.imshow(X_train[24])"
      ],
      "execution_count": 5,
      "outputs": [
        {
          "output_type": "stream",
          "text": [
            "(60000, 28, 28)\n"
          ],
          "name": "stdout"
        },
        {
          "output_type": "execute_result",
          "data": {
            "text/plain": [
              "<matplotlib.image.AxesImage at 0x7f442b4af1d0>"
            ]
          },
          "metadata": {
            "tags": []
          },
          "execution_count": 5
        },
        {
          "output_type": "display_data",
          "data": {
            "image/png": "[encoded data removed]",
            "text/plain": [
              "<Figure size 432x288 with 1 Axes>"
            ]
          },
          "metadata": {
            "tags": []
          }
        }
      ]
    },
    {
      "cell_type": "code",
      "metadata": {
        "id": "dkmprriw9AnZ",
        "colab_type": "code",
        "colab": {}
      },
      "source": [
        "# Defining shape of the sets\n",
        "X_train = X_train.reshape(X_train.shape[0], 28, 28,1)\n",
        "X_test = X_test.reshape(X_test.shape[0], 28, 28,1)"
      ],
      "execution_count": 0,
      "outputs": []
    },
    {
      "cell_type": "code",
      "metadata": {
        "id": "X2m4YS4E9CRh",
        "colab_type": "code",
        "colab": {}
      },
      "source": [
        "# Scaling down pixel values from 0-255 to 0-1\n",
        "X_train = X_train.astype('float32')\n",
        "X_test = X_test.astype('float32')\n",
        "X_train /= 255\n",
        "X_test /= 255"
      ],
      "execution_count": 0,
      "outputs": []
    },
    {
      "cell_type": "code",
      "metadata": {
        "id": "0Mn0vAYD9DvB",
        "colab_type": "code",
        "outputId": "9794f8e9-2787-46ed-a798-4b2305e24a68",
        "colab": {
          "base_uri": "https://localhost:8080/",
          "height": 35
        }
      },
      "source": [
        "# Inspecting labels\n",
        "y_train[:10]"
      ],
      "execution_count": 8,
      "outputs": [
        {
          "output_type": "execute_result",
          "data": {
            "text/plain": [
              "array([5, 0, 4, 1, 9, 2, 1, 3, 1, 4], dtype=uint8)"
            ]
          },
          "metadata": {
            "tags": []
          },
          "execution_count": 8
        }
      ]
    },
    {
      "cell_type": "code",
      "metadata": {
        "id": "ZG8JiXR39FHC",
        "colab_type": "code",
        "colab": {}
      },
      "source": [
        "# Convert 1-dimensional class arrays to 10-dimensional class matrices\n",
        "Y_train = np_utils.to_categorical(y_train, 10)\n",
        "Y_test = np_utils.to_categorical(y_test, 10)"
      ],
      "execution_count": 0,
      "outputs": []
    },
    {
      "cell_type": "code",
      "metadata": {
        "id": "fYlFRvKS9HMB",
        "colab_type": "code",
        "outputId": "2bf7a01e-678b-4da5-afbf-13524243534e",
        "colab": {
          "base_uri": "https://localhost:8080/",
          "height": 191
        }
      },
      "source": [
        "# Inspectingt the categorized labels\n",
        "Y_train[20:30]\n"
      ],
      "execution_count": 10,
      "outputs": [
        {
          "output_type": "execute_result",
          "data": {
            "text/plain": [
              "array([[0., 0., 0., 0., 1., 0., 0., 0., 0., 0.],\n",
              "       [1., 0., 0., 0., 0., 0., 0., 0., 0., 0.],\n",
              "       [0., 0., 0., 0., 0., 0., 0., 0., 0., 1.],\n",
              "       [0., 1., 0., 0., 0., 0., 0., 0., 0., 0.],\n",
              "       [0., 1., 0., 0., 0., 0., 0., 0., 0., 0.],\n",
              "       [0., 0., 1., 0., 0., 0., 0., 0., 0., 0.],\n",
              "       [0., 0., 0., 0., 1., 0., 0., 0., 0., 0.],\n",
              "       [0., 0., 0., 1., 0., 0., 0., 0., 0., 0.],\n",
              "       [0., 0., 1., 0., 0., 0., 0., 0., 0., 0.],\n",
              "       [0., 0., 0., 0., 0., 0., 0., 1., 0., 0.]], dtype=float32)"
            ]
          },
          "metadata": {
            "tags": []
          },
          "execution_count": 10
        }
      ]
    },
    {
      "cell_type": "code",
      "metadata": {
        "id": "osKqT73Q9JJB",
        "colab_type": "code",
        "outputId": "6fbe709b-d878-4477-a998-707a22044519",
        "colab": {
          "base_uri": "https://localhost:8080/",
          "height": 523
        }
      },
      "source": [
        "# Building the infrastructure\n",
        "from keras.layers import Activation\n",
        "model = Sequential()\n",
        " \n",
        "model.add(Convolution2D(16, 3, activation='relu', input_shape=(28,28,1), name = \"C3-1\")) #26\n",
        "model.add(Convolution2D(32, 3, activation='relu', name = \"C3-2\")) #24\n",
        "\n",
        "model.add(Convolution2D(16, 1, activation='relu', name = \"C1-1\")) #24\n",
        "model.add(Convolution2D(32, 3, activation='relu', name = \"C3-3\")) #22\n",
        "\n",
        "model.add(Convolution2D(10, 1, activation='relu', name = \"C1-2\")) #22\n",
        "model.add(Convolution2D(10, 3, activation='relu', name = \"C3-4\")) #20\n",
        "\n",
        "model.add(Convolution2D(10, 20, name = \"C20-1\")) #1\n",
        "model.add(Flatten(name = \"F\"))\n",
        "model.add(Activation('softmax'))\n",
        "\n",
        "# Checking the model\n",
        "model.summary()"
      ],
      "execution_count": 4,
      "outputs": [
        {
          "output_type": "stream",
          "text": [
            "WARNING:tensorflow:From /usr/local/lib/python3.6/dist-packages/tensorflow/python/framework/op_def_library.py:263: colocate_with (from tensorflow.python.framework.ops) is deprecated and will be removed in a future version.\n",
            "Instructions for updating:\n",
            "Colocations handled automatically by placer.\n",
            "_________________________________________________________________\n",
            "Layer (type)                 Output Shape              Param #   \n",
            "=================================================================\n",
            "C3-1 (Conv2D)                (None, 26, 26, 16)        160       \n",
            "_________________________________________________________________\n",
            "C3-2 (Conv2D)                (None, 24, 24, 32)        4640      \n",
            "_________________________________________________________________\n",
            "C1-1 (Conv2D)                (None, 24, 24, 16)        528       \n",
            "_________________________________________________________________\n",
            "C3-3 (Conv2D)                (None, 22, 22, 32)        4640      \n",
            "_________________________________________________________________\n",
            "C1-2 (Conv2D)                (None, 22, 22, 10)        330       \n",
            "_________________________________________________________________\n",
            "C3-4 (Conv2D)                (None, 20, 20, 10)        910       \n",
            "_________________________________________________________________\n",
            "C20-1 (Conv2D)               (None, 1, 1, 10)          40010     \n",
            "_________________________________________________________________\n",
            "F (Flatten)                  (None, 10)                0         \n",
            "_________________________________________________________________\n",
            "activation_1 (Activation)    (None, 10)                0         \n",
            "=================================================================\n",
            "Total params: 51,218\n",
            "Trainable params: 51,218\n",
            "Non-trainable params: 0\n",
            "_________________________________________________________________\n"
          ],
          "name": "stdout"
        }
      ]
    },
    {
      "cell_type": "code",
      "metadata": {
        "id": "Zp6SuGrL9M3h",
        "colab_type": "code",
        "colab": {}
      },
      "source": [
        "# Compiling the model\n",
        "model.compile(loss='categorical_crossentropy',\n",
        "             optimizer='adam',\n",
        "             metrics=['accuracy'])"
      ],
      "execution_count": 0,
      "outputs": []
    },
    {
      "cell_type": "code",
      "metadata": {
        "id": "_WCBH6WW_zoh",
        "colab_type": "code",
        "colab": {}
      },
      "source": [
        "#lr_reducer = ReduceLROnPlateau(factor=np.sqrt(0.1), cooldown=0, patience=5, min_lr=0.5e-6)\n",
        "#early_stopper = EarlyStopping(min_delta=0.001, patience=10)\n",
        "csv_logger = CSVLogger('/content/gdrive/My Drive/EVA/P3/Try2/mnist.csv')\n",
        "\n",
        "filepath=\"/content/gdrive/My Drive/EVA/P3/Try2/Iter1 - Best.hdf5\"\n",
        "checkpoint = ModelCheckpoint(filepath, monitor='val_acc', verbose=1, save_best_only=True, mode='max')"
      ],
      "execution_count": 0,
      "outputs": []
    },
    {
      "cell_type": "code",
      "metadata": {
        "id": "4xWoKhPY9Of5",
        "colab_type": "code",
        "outputId": "8b7934e4-0525-454b-fb05-c87d2658bb90",
        "colab": {
          "base_uri": "https://localhost:8080/",
          "height": 780
        }
      },
      "source": [
        "# Training the model\n",
        "model.fit(X_train, Y_train, batch_size=32, nb_epoch=10, verbose=1, validation_data=(X_test, Y_test), callbacks=[csv_logger, checkpoint])"
      ],
      "execution_count": 29,
      "outputs": [
        {
          "output_type": "stream",
          "text": [
            "/usr/local/lib/python3.6/dist-packages/ipykernel_launcher.py:1: UserWarning: The `nb_epoch` argument in `fit` has been renamed `epochs`.\n",
            "  \"\"\"Entry point for launching an IPython kernel.\n"
          ],
          "name": "stderr"
        },
        {
          "output_type": "stream",
          "text": [
            "Train on 60000 samples, validate on 10000 samples\n",
            "Epoch 1/10\n",
            "60000/60000 [==============================] - 13s 220us/step - loss: 0.1726 - acc: 0.9490 - val_loss: 0.0571 - val_acc: 0.9813\n",
            "\n",
            "Epoch 00001: val_acc improved from -inf to 0.98130, saving model to /content/gdrive/My Drive/EVA/P3/Try2/Iter1 - Best.hdf5\n",
            "Epoch 2/10\n",
            "60000/60000 [==============================] - 12s 193us/step - loss: 0.0626 - acc: 0.9814 - val_loss: 0.0510 - val_acc: 0.9837\n",
            "\n",
            "Epoch 00002: val_acc improved from 0.98130 to 0.98370, saving model to /content/gdrive/My Drive/EVA/P3/Try2/Iter1 - Best.hdf5\n",
            "Epoch 3/10\n",
            "60000/60000 [==============================] - 12s 192us/step - loss: 0.0473 - acc: 0.9859 - val_loss: 0.0495 - val_acc: 0.9844\n",
            "\n",
            "Epoch 00003: val_acc improved from 0.98370 to 0.98440, saving model to /content/gdrive/My Drive/EVA/P3/Try2/Iter1 - Best.hdf5\n",
            "Epoch 4/10\n",
            "60000/60000 [==============================] - 12s 193us/step - loss: 0.0375 - acc: 0.9875 - val_loss: 0.0586 - val_acc: 0.9821\n",
            "\n",
            "Epoch 00004: val_acc did not improve from 0.98440\n",
            "Epoch 5/10\n",
            "60000/60000 [==============================] - 12s 193us/step - loss: 0.0298 - acc: 0.9909 - val_loss: 0.0468 - val_acc: 0.9869\n",
            "\n",
            "Epoch 00005: val_acc improved from 0.98440 to 0.98690, saving model to /content/gdrive/My Drive/EVA/P3/Try2/Iter1 - Best.hdf5\n",
            "Epoch 6/10\n",
            "60000/60000 [==============================] - 12s 193us/step - loss: 0.0250 - acc: 0.9919 - val_loss: 0.0527 - val_acc: 0.9858\n",
            "\n",
            "Epoch 00006: val_acc did not improve from 0.98690\n",
            "Epoch 7/10\n",
            "60000/60000 [==============================] - 12s 201us/step - loss: 0.0201 - acc: 0.9934 - val_loss: 0.0505 - val_acc: 0.9855\n",
            "\n",
            "Epoch 00007: val_acc did not improve from 0.98690\n",
            "Epoch 8/10\n",
            "60000/60000 [==============================] - 12s 204us/step - loss: 0.0163 - acc: 0.9943 - val_loss: 0.0433 - val_acc: 0.9873\n",
            "\n",
            "Epoch 00008: val_acc improved from 0.98690 to 0.98730, saving model to /content/gdrive/My Drive/EVA/P3/Try2/Iter1 - Best.hdf5\n",
            "Epoch 9/10\n",
            "60000/60000 [==============================] - 12s 192us/step - loss: 0.0142 - acc: 0.9952 - val_loss: 0.0625 - val_acc: 0.9833\n",
            "\n",
            "Epoch 00009: val_acc did not improve from 0.98730\n",
            "Epoch 10/10\n",
            "60000/60000 [==============================] - 12s 193us/step - loss: 0.0123 - acc: 0.9959 - val_loss: 0.0598 - val_acc: 0.9852\n",
            "\n",
            "Epoch 00010: val_acc did not improve from 0.98730\n"
          ],
          "name": "stdout"
        },
        {
          "output_type": "execute_result",
          "data": {
            "text/plain": [
              "<keras.callbacks.History at 0x7f43fb50fe80>"
            ]
          },
          "metadata": {
            "tags": []
          },
          "execution_count": 29
        }
      ]
    },
    {
      "cell_type": "code",
      "metadata": {
        "id": "9COypMAljzOE",
        "colab_type": "code",
        "colab": {}
      },
      "source": [
        "# Loading best model from the initial training\n",
        "model.load_weights(\"/content/gdrive/My Drive/EVA/P3/Try2/Iter1 - Best.hdf5\")"
      ],
      "execution_count": 0,
      "outputs": []
    },
    {
      "cell_type": "code",
      "metadata": {
        "id": "AtsH-lLk-eLb",
        "colab_type": "code",
        "colab": {}
      },
      "source": [
        "# Evaluating the model on the test data\n",
        "score = model.evaluate(X_test, Y_test, verbose=0)"
      ],
      "execution_count": 0,
      "outputs": []
    },
    {
      "cell_type": "code",
      "metadata": {
        "id": "mkX8JMv79q9r",
        "colab_type": "code",
        "outputId": "67e63319-e087-4062-ba0d-293f8d8357eb",
        "colab": {
          "base_uri": "https://localhost:8080/",
          "height": 35
        }
      },
      "source": [
        "# Printing test score\n",
        "print(score)"
      ],
      "execution_count": 34,
      "outputs": [
        {
          "output_type": "stream",
          "text": [
            "[0.043323928912718836, 0.9873]\n"
          ],
          "name": "stdout"
        }
      ]
    }
  ]
}