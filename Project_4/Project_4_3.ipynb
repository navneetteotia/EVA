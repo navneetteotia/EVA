{
  "nbformat": 4,
  "nbformat_minor": 0,
  "metadata": {
    "colab": {
      "name": "Project 4 - Third.ipynb",
      "version": "0.3.2",
      "provenance": [],
      "collapsed_sections": []
    },
    "kernelspec": {
      "name": "python3",
      "display_name": "Python 3"
    },
    "accelerator": "GPU"
  },
  "cells": [
    {
      "cell_type": "markdown",
      "metadata": {
        "id": "aNyZv-Ec52ot",
        "colab_type": "text"
      },
      "source": [
        "##Third Iteration\n",
        "\n",
        "**Changes:**\n",
        "- Added DropOut at 2 places\n",
        "- Using LRScheduler for deacaying the learning rate systematically.\n",
        "- Change number of channels in initial blocks to 16 and 32.\n",
        "\n",
        "**Expectations:**\n",
        "- Expect a slight increase in accuracy because of LRScheduler\n",
        "- Reduction in difference between the training and validation accuracy due to dropout.\n",
        "\n",
        "**Result**:\n",
        "- Parameters: 13,692\n",
        "- Epochs Run: 50\n",
        "- Best Epoch: 48\n",
        "- Training Accuracy: 99.83\n",
        "- Validation Accuracy: 99.32\n"
      ]
    },
    {
      "cell_type": "code",
      "metadata": {
        "id": "3m3w1Cw49Zkt",
        "colab_type": "code",
        "colab": {}
      },
      "source": [
        "# Install and Import Keras\n",
        "# https://keras.io/\n",
        "!pip install -q keras\n",
        "import keras"
      ],
      "execution_count": 0,
      "outputs": []
    },
    {
      "cell_type": "code",
      "metadata": {
        "id": "Eso6UHE080D4",
        "colab_type": "code",
        "colab": {}
      },
      "source": [
        "# Importing the required libraries\n",
        "import numpy as np\n",
        "\n",
        "from keras.models import Sequential\n",
        "from keras.layers import Dense, Dropout, Activation, Flatten, Add, BatchNormalization\n",
        "from keras.layers import Convolution2D, MaxPooling2D\n",
        "from keras.utils import np_utils\n",
        "from keras.callbacks import ReduceLROnPlateau, CSVLogger, EarlyStopping, ModelCheckpoint\n",
        "\n",
        "from keras.datasets import mnist"
      ],
      "execution_count": 0,
      "outputs": []
    },
    {
      "cell_type": "markdown",
      "metadata": {
        "id": "zByEi95J86RD",
        "colab_type": "text"
      },
      "source": [
        "### Load pre-shuffled MNIST data into train and test sets"
      ]
    },
    {
      "cell_type": "code",
      "metadata": {
        "id": "7eRM0QWN83PV",
        "colab_type": "code",
        "colab": {
          "base_uri": "https://localhost:8080/",
          "height": 52
        },
        "outputId": "9d18f5d6-3935-4453-9bd3-083d6be957e2"
      },
      "source": [
        "# Load MNIST into train and test sets\n",
        "(X_train, y_train), (X_test, y_test) = mnist.load_data()"
      ],
      "execution_count": 4,
      "outputs": [
        {
          "output_type": "stream",
          "text": [
            "Downloading data from https://s3.amazonaws.com/img-datasets/mnist.npz\n",
            "11493376/11490434 [==============================] - 1s 0us/step\n"
          ],
          "name": "stdout"
        }
      ]
    },
    {
      "cell_type": "code",
      "metadata": {
        "id": "d3KOoBh_CFca",
        "colab_type": "code",
        "outputId": "f3043407-983a-47b5-f8bf-c5162c26dc38",
        "colab": {
          "base_uri": "https://localhost:8080/",
          "height": 124
        }
      },
      "source": [
        "# Connecting Drive to save models\n",
        "from google.colab import drive\n",
        "drive.mount('/content/gdrive')"
      ],
      "execution_count": 5,
      "outputs": [
        {
          "output_type": "stream",
          "text": [
            "Go to this URL in a browser: https://accounts.google.com/o/oauth2/auth?client_id=947318989803-6bn6qk8qdgf4n4g3pfee6491hc0brc4i.apps.googleusercontent.com&redirect_uri=urn%3Aietf%3Awg%3Aoauth%3A2.0%3Aoob&scope=email%20https%3A%2F%2Fwww.googleapis.com%2Fauth%2Fdocs.test%20https%3A%2F%2Fwww.googleapis.com%2Fauth%2Fdrive%20https%3A%2F%2Fwww.googleapis.com%2Fauth%2Fdrive.photos.readonly%20https%3A%2F%2Fwww.googleapis.com%2Fauth%2Fpeopleapi.readonly&response_type=code\n",
            "\n",
            "Enter your authorization code:\n",
            "··········\n",
            "Mounted at /content/gdrive\n"
          ],
          "name": "stdout"
        }
      ]
    },
    {
      "cell_type": "code",
      "metadata": {
        "id": "4a4Be72j8-ZC",
        "colab_type": "code",
        "outputId": "c94c10b6-0342-4240-e94a-e5ab0c80f0eb",
        "colab": {
          "base_uri": "https://localhost:8080/",
          "height": 304
        }
      },
      "source": [
        "# Looking at sample images\n",
        "print (X_train.shape)\n",
        "from matplotlib import pyplot as plt\n",
        "%matplotlib inline\n",
        "plt.imshow(X_train[24])"
      ],
      "execution_count": 6,
      "outputs": [
        {
          "output_type": "stream",
          "text": [
            "(60000, 28, 28)\n"
          ],
          "name": "stdout"
        },
        {
          "output_type": "execute_result",
          "data": {
            "text/plain": [
              "<matplotlib.image.AxesImage at 0x7fc74a64ba20>"
            ]
          },
          "metadata": {
            "tags": []
          },
          "execution_count": 6
        },
        {
          "output_type": "display_data",
          "data": {
            "image/png": "[encoded data removed]",
            "text/plain": [
              "<Figure size 432x288 with 1 Axes>"
            ]
          },
          "metadata": {
            "tags": []
          }
        }
      ]
    },
    {
      "cell_type": "code",
      "metadata": {
        "id": "dkmprriw9AnZ",
        "colab_type": "code",
        "colab": {}
      },
      "source": [
        "# Defining shape of the sets\n",
        "X_train = X_train.reshape(X_train.shape[0], 28, 28,1)\n",
        "X_test = X_test.reshape(X_test.shape[0], 28, 28,1)"
      ],
      "execution_count": 0,
      "outputs": []
    },
    {
      "cell_type": "code",
      "metadata": {
        "id": "X2m4YS4E9CRh",
        "colab_type": "code",
        "colab": {}
      },
      "source": [
        "# Scaling down pixel values from 0-255 to 0-1\n",
        "X_train = X_train.astype('float32')\n",
        "X_test = X_test.astype('float32')\n",
        "X_train /= 255\n",
        "X_test /= 255"
      ],
      "execution_count": 0,
      "outputs": []
    },
    {
      "cell_type": "code",
      "metadata": {
        "id": "0Mn0vAYD9DvB",
        "colab_type": "code",
        "outputId": "e0c8bf7d-a084-4e45-be65-05074f15f7c6",
        "colab": {
          "base_uri": "https://localhost:8080/",
          "height": 35
        }
      },
      "source": [
        "# Inspecting labels\n",
        "y_train[:10]"
      ],
      "execution_count": 9,
      "outputs": [
        {
          "output_type": "execute_result",
          "data": {
            "text/plain": [
              "array([5, 0, 4, 1, 9, 2, 1, 3, 1, 4], dtype=uint8)"
            ]
          },
          "metadata": {
            "tags": []
          },
          "execution_count": 9
        }
      ]
    },
    {
      "cell_type": "code",
      "metadata": {
        "id": "ZG8JiXR39FHC",
        "colab_type": "code",
        "colab": {}
      },
      "source": [
        "# Convert 1-dimensional class arrays to 10-dimensional class matrices\n",
        "Y_train = np_utils.to_categorical(y_train, 10)\n",
        "Y_test = np_utils.to_categorical(y_test, 10)"
      ],
      "execution_count": 0,
      "outputs": []
    },
    {
      "cell_type": "code",
      "metadata": {
        "id": "fYlFRvKS9HMB",
        "colab_type": "code",
        "outputId": "28491937-7bef-4454-ea2b-8fa5a5ef345f",
        "colab": {
          "base_uri": "https://localhost:8080/",
          "height": 191
        }
      },
      "source": [
        "# Inspectingt the categorized labels\n",
        "Y_train[20:30]\n"
      ],
      "execution_count": 11,
      "outputs": [
        {
          "output_type": "execute_result",
          "data": {
            "text/plain": [
              "array([[0., 0., 0., 0., 1., 0., 0., 0., 0., 0.],\n",
              "       [1., 0., 0., 0., 0., 0., 0., 0., 0., 0.],\n",
              "       [0., 0., 0., 0., 0., 0., 0., 0., 0., 1.],\n",
              "       [0., 1., 0., 0., 0., 0., 0., 0., 0., 0.],\n",
              "       [0., 1., 0., 0., 0., 0., 0., 0., 0., 0.],\n",
              "       [0., 0., 1., 0., 0., 0., 0., 0., 0., 0.],\n",
              "       [0., 0., 0., 0., 1., 0., 0., 0., 0., 0.],\n",
              "       [0., 0., 0., 1., 0., 0., 0., 0., 0., 0.],\n",
              "       [0., 0., 1., 0., 0., 0., 0., 0., 0., 0.],\n",
              "       [0., 0., 0., 0., 0., 0., 0., 1., 0., 0.]], dtype=float32)"
            ]
          },
          "metadata": {
            "tags": []
          },
          "execution_count": 11
        }
      ]
    },
    {
      "cell_type": "code",
      "metadata": {
        "id": "osKqT73Q9JJB",
        "colab_type": "code",
        "outputId": "4e983562-6859-4372-c535-ac08b5bb9937",
        "colab": {
          "base_uri": "https://localhost:8080/",
          "height": 797
        }
      },
      "source": [
        "# Building the infrastructure\n",
        "from keras.layers import Activation\n",
        "model = Sequential()\n",
        " \n",
        "model.add(Convolution2D(16, 3, activation='relu', input_shape=(28,28,1), name = \"C3-1\")) #26\n",
        "model.add(BatchNormalization(name = \"BN-C3-1\"))\n",
        "model.add(Convolution2D(32, 3, activation='relu', name = \"C3-2\")) #24\n",
        "model.add(BatchNormalization(name = \"BN-C3-2\"))\n",
        "\n",
        "model.add(Dropout(0.25, name = \"DO-1\"))\n",
        "\n",
        "model.add(MaxPooling2D(2, name = \"MP1\")) #12\n",
        "\n",
        "model.add(Convolution2D(16, 1, activation='relu', name = \"C1-1\")) #12\n",
        "model.add(BatchNormalization(name = \"BN-C1-1\"))\n",
        "model.add(Convolution2D(32, 3, activation='relu', name = \"C3-3\")) #10\n",
        "model.add(BatchNormalization(name = \"BN-C3-3\"))\n",
        "\n",
        "model.add(Dropout(0.25, name = \"DO-2\"))\n",
        "\n",
        "model.add(MaxPooling2D(2, name = \"MP2\")) #5\n",
        "\n",
        "model.add(Convolution2D(10, 1, activation='relu', name = \"C1-2\")) #5\n",
        "model.add(BatchNormalization(name = \"BN-C1-2\"))\n",
        "model.add(Convolution2D(16, 3, activation='relu', name = \"C3-4\")) #3\n",
        "model.add(BatchNormalization(name = \"BN-C3-4\"))\n",
        "\n",
        "model.add(Convolution2D(10, 3, name = \"C20-1\")) #1\n",
        "model.add(Flatten(name = \"F\"))\n",
        "model.add(Activation('softmax'))\n",
        "\n",
        "# Checking the model\n",
        "model.summary()"
      ],
      "execution_count": 46,
      "outputs": [
        {
          "output_type": "stream",
          "text": [
            "_________________________________________________________________\n",
            "Layer (type)                 Output Shape              Param #   \n",
            "=================================================================\n",
            "C3-1 (Conv2D)                (None, 26, 26, 16)        160       \n",
            "_________________________________________________________________\n",
            "BN-C3-1 (BatchNormalization) (None, 26, 26, 16)        64        \n",
            "_________________________________________________________________\n",
            "C3-2 (Conv2D)                (None, 24, 24, 32)        4640      \n",
            "_________________________________________________________________\n",
            "BN-C3-2 (BatchNormalization) (None, 24, 24, 32)        128       \n",
            "_________________________________________________________________\n",
            "DO-1 (Dropout)               (None, 24, 24, 32)        0         \n",
            "_________________________________________________________________\n",
            "MP1 (MaxPooling2D)           (None, 12, 12, 32)        0         \n",
            "_________________________________________________________________\n",
            "C1-1 (Conv2D)                (None, 12, 12, 16)        528       \n",
            "_________________________________________________________________\n",
            "BN-C1-1 (BatchNormalization) (None, 12, 12, 16)        64        \n",
            "_________________________________________________________________\n",
            "C3-3 (Conv2D)                (None, 10, 10, 32)        4640      \n",
            "_________________________________________________________________\n",
            "BN-C3-3 (BatchNormalization) (None, 10, 10, 32)        128       \n",
            "_________________________________________________________________\n",
            "DO-2 (Dropout)               (None, 10, 10, 32)        0         \n",
            "_________________________________________________________________\n",
            "MP2 (MaxPooling2D)           (None, 5, 5, 32)          0         \n",
            "_________________________________________________________________\n",
            "C1-2 (Conv2D)                (None, 5, 5, 10)          330       \n",
            "_________________________________________________________________\n",
            "BN-C1-2 (BatchNormalization) (None, 5, 5, 10)          40        \n",
            "_________________________________________________________________\n",
            "C3-4 (Conv2D)                (None, 3, 3, 16)          1456      \n",
            "_________________________________________________________________\n",
            "BN-C3-4 (BatchNormalization) (None, 3, 3, 16)          64        \n",
            "_________________________________________________________________\n",
            "C20-1 (Conv2D)               (None, 1, 1, 10)          1450      \n",
            "_________________________________________________________________\n",
            "F (Flatten)                  (None, 10)                0         \n",
            "_________________________________________________________________\n",
            "activation_7 (Activation)    (None, 10)                0         \n",
            "=================================================================\n",
            "Total params: 13,692\n",
            "Trainable params: 13,448\n",
            "Non-trainable params: 244\n",
            "_________________________________________________________________\n"
          ],
          "name": "stdout"
        }
      ]
    },
    {
      "cell_type": "code",
      "metadata": {
        "id": "twZppaDl8FgJ",
        "colab_type": "code",
        "colab": {}
      },
      "source": [
        "from keras.optimizers import Adam\n",
        "from keras.callbacks import LearningRateScheduler\n",
        "def scheduler(epoch, lr):\n",
        "  return round(0.003 * 1/(1 + 0.319 * epoch), 10)"
      ],
      "execution_count": 0,
      "outputs": []
    },
    {
      "cell_type": "code",
      "metadata": {
        "id": "Zp6SuGrL9M3h",
        "colab_type": "code",
        "colab": {}
      },
      "source": [
        "# Compiling the model\n",
        "model.compile(loss='categorical_crossentropy',\n",
        "             optimizer=Adam(lr=0.003),\n",
        "             metrics=['accuracy'])"
      ],
      "execution_count": 0,
      "outputs": []
    },
    {
      "cell_type": "code",
      "metadata": {
        "id": "_WCBH6WW_zoh",
        "colab_type": "code",
        "colab": {}
      },
      "source": [
        "#lr_reducer = ReduceLROnPlateau(factor=np.sqrt(0.1), cooldown=0, patience=5, min_lr=0.5e-6)\n",
        "#early_stopper = EarlyStopping(min_delta=0.001, patience=10)\n",
        "csv_logger = CSVLogger('/content/gdrive/My Drive/EVA/P3/Try2/mnist.csv')\n",
        "\n",
        "filepath=\"/content/gdrive/My Drive/EVA/P3/Try2/Iter3 - BestExp.hdf5\"\n",
        "checkpoint = ModelCheckpoint(filepath, monitor='val_acc', verbose=1, save_best_only=True, mode='max')"
      ],
      "execution_count": 0,
      "outputs": []
    },
    {
      "cell_type": "code",
      "metadata": {
        "id": "4xWoKhPY9Of5",
        "colab_type": "code",
        "outputId": "3e6bb1d2-8c1e-448f-a844-28766f74e6dd",
        "colab": {
          "base_uri": "https://localhost:8080/",
          "height": 5252
        }
      },
      "source": [
        "# Training the model\n",
        "model.fit(X_train,\n",
        "          Y_train,\n",
        "          batch_size=32,\n",
        "          epochs=50,\n",
        "          verbose=1,\n",
        "          validation_data=(X_test, Y_test),\n",
        "          callbacks=[csv_logger, checkpoint, LearningRateScheduler(scheduler, verbose=1)])"
      ],
      "execution_count": 50,
      "outputs": [
        {
          "output_type": "stream",
          "text": [
            "Train on 60000 samples, validate on 10000 samples\n",
            "Epoch 1/50\n",
            "\n",
            "Epoch 00001: LearningRateScheduler setting learning rate to 0.003.\n",
            "60000/60000 [==============================] - 40s 659us/step - loss: 0.1317 - acc: 0.9590 - val_loss: 0.1089 - val_acc: 0.9643\n",
            "\n",
            "Epoch 00001: val_acc improved from -inf to 0.96430, saving model to /content/gdrive/My Drive/EVA/P3/Try2/Iter3 - BestExp.hdf5\n",
            "Epoch 2/50\n",
            "\n",
            "Epoch 00002: LearningRateScheduler setting learning rate to 0.0022744503.\n",
            "60000/60000 [==============================] - 36s 603us/step - loss: 0.0524 - acc: 0.9833 - val_loss: 0.0494 - val_acc: 0.9829\n",
            "\n",
            "Epoch 00002: val_acc improved from 0.96430 to 0.98290, saving model to /content/gdrive/My Drive/EVA/P3/Try2/Iter3 - BestExp.hdf5\n",
            "Epoch 3/50\n",
            "\n",
            "Epoch 00003: LearningRateScheduler setting learning rate to 0.0018315018.\n",
            "60000/60000 [==============================] - 36s 607us/step - loss: 0.0421 - acc: 0.9863 - val_loss: 0.0608 - val_acc: 0.9797\n",
            "\n",
            "Epoch 00003: val_acc did not improve from 0.98290\n",
            "Epoch 4/50\n",
            "\n",
            "Epoch 00004: LearningRateScheduler setting learning rate to 0.0015329586.\n",
            "60000/60000 [==============================] - 38s 637us/step - loss: 0.0354 - acc: 0.9887 - val_loss: 0.0367 - val_acc: 0.9885\n",
            "\n",
            "Epoch 00004: val_acc improved from 0.98290 to 0.98850, saving model to /content/gdrive/My Drive/EVA/P3/Try2/Iter3 - BestExp.hdf5\n",
            "Epoch 5/50\n",
            "\n",
            "Epoch 00005: LearningRateScheduler setting learning rate to 0.0013181019.\n",
            "60000/60000 [==============================] - 36s 593us/step - loss: 0.0287 - acc: 0.9908 - val_loss: 0.0322 - val_acc: 0.9902\n",
            "\n",
            "Epoch 00005: val_acc improved from 0.98850 to 0.99020, saving model to /content/gdrive/My Drive/EVA/P3/Try2/Iter3 - BestExp.hdf5\n",
            "Epoch 6/50\n",
            "\n",
            "Epoch 00006: LearningRateScheduler setting learning rate to 0.0011560694.\n",
            "60000/60000 [==============================] - 36s 596us/step - loss: 0.0269 - acc: 0.9909 - val_loss: 0.0301 - val_acc: 0.9895\n",
            "\n",
            "Epoch 00006: val_acc did not improve from 0.99020\n",
            "Epoch 7/50\n",
            "\n",
            "Epoch 00007: LearningRateScheduler setting learning rate to 0.0010295127.\n",
            "60000/60000 [==============================] - 36s 601us/step - loss: 0.0239 - acc: 0.9920 - val_loss: 0.0288 - val_acc: 0.9909\n",
            "\n",
            "Epoch 00007: val_acc improved from 0.99020 to 0.99090, saving model to /content/gdrive/My Drive/EVA/P3/Try2/Iter3 - BestExp.hdf5\n",
            "Epoch 8/50\n",
            "\n",
            "Epoch 00008: LearningRateScheduler setting learning rate to 0.0009279307.\n",
            "60000/60000 [==============================] - 37s 619us/step - loss: 0.0203 - acc: 0.9932 - val_loss: 0.0250 - val_acc: 0.9916\n",
            "\n",
            "Epoch 00008: val_acc improved from 0.99090 to 0.99160, saving model to /content/gdrive/My Drive/EVA/P3/Try2/Iter3 - BestExp.hdf5\n",
            "Epoch 9/50\n",
            "\n",
            "Epoch 00009: LearningRateScheduler setting learning rate to 0.0008445946.\n",
            "60000/60000 [==============================] - 37s 619us/step - loss: 0.0193 - acc: 0.9936 - val_loss: 0.0251 - val_acc: 0.9919\n",
            "\n",
            "Epoch 00009: val_acc improved from 0.99160 to 0.99190, saving model to /content/gdrive/My Drive/EVA/P3/Try2/Iter3 - BestExp.hdf5\n",
            "Epoch 10/50\n",
            "\n",
            "Epoch 00010: LearningRateScheduler setting learning rate to 0.0007749935.\n",
            "60000/60000 [==============================] - 37s 622us/step - loss: 0.0174 - acc: 0.9940 - val_loss: 0.0318 - val_acc: 0.9886\n",
            "\n",
            "Epoch 00010: val_acc did not improve from 0.99190\n",
            "Epoch 11/50\n",
            "\n",
            "Epoch 00011: LearningRateScheduler setting learning rate to 0.0007159905.\n",
            "60000/60000 [==============================] - 37s 615us/step - loss: 0.0163 - acc: 0.9948 - val_loss: 0.0256 - val_acc: 0.9917\n",
            "\n",
            "Epoch 00011: val_acc did not improve from 0.99190\n",
            "Epoch 12/50\n",
            "\n",
            "Epoch 00012: LearningRateScheduler setting learning rate to 0.000665336.\n",
            "60000/60000 [==============================] - 36s 600us/step - loss: 0.0141 - acc: 0.9954 - val_loss: 0.0258 - val_acc: 0.9914\n",
            "\n",
            "Epoch 00012: val_acc did not improve from 0.99190\n",
            "Epoch 13/50\n",
            "\n",
            "Epoch 00013: LearningRateScheduler setting learning rate to 0.0006213753.\n",
            "60000/60000 [==============================] - 37s 612us/step - loss: 0.0142 - acc: 0.9953 - val_loss: 0.0239 - val_acc: 0.9925\n",
            "\n",
            "Epoch 00013: val_acc improved from 0.99190 to 0.99250, saving model to /content/gdrive/My Drive/EVA/P3/Try2/Iter3 - BestExp.hdf5\n",
            "Epoch 14/50\n",
            "\n",
            "Epoch 00014: LearningRateScheduler setting learning rate to 0.0005828638.\n",
            "60000/60000 [==============================] - 38s 637us/step - loss: 0.0127 - acc: 0.9954 - val_loss: 0.0268 - val_acc: 0.9908\n",
            "\n",
            "Epoch 00014: val_acc did not improve from 0.99250\n",
            "Epoch 15/50\n",
            "\n",
            "Epoch 00015: LearningRateScheduler setting learning rate to 0.0005488474.\n",
            "60000/60000 [==============================] - 38s 625us/step - loss: 0.0122 - acc: 0.9963 - val_loss: 0.0259 - val_acc: 0.9916\n",
            "\n",
            "Epoch 00015: val_acc did not improve from 0.99250\n",
            "Epoch 16/50\n",
            "\n",
            "Epoch 00016: LearningRateScheduler setting learning rate to 0.0005185825.\n",
            "60000/60000 [==============================] - 39s 650us/step - loss: 0.0109 - acc: 0.9962 - val_loss: 0.0227 - val_acc: 0.9927\n",
            "\n",
            "Epoch 00016: val_acc improved from 0.99250 to 0.99270, saving model to /content/gdrive/My Drive/EVA/P3/Try2/Iter3 - BestExp.hdf5\n",
            "Epoch 17/50\n",
            "\n",
            "Epoch 00017: LearningRateScheduler setting learning rate to 0.000491481.\n",
            "60000/60000 [==============================] - 39s 658us/step - loss: 0.0110 - acc: 0.9962 - val_loss: 0.0231 - val_acc: 0.9920\n",
            "\n",
            "Epoch 00017: val_acc did not improve from 0.99270\n",
            "Epoch 18/50\n",
            "\n",
            "Epoch 00018: LearningRateScheduler setting learning rate to 0.0004670715.\n",
            "60000/60000 [==============================] - 60s 1ms/step - loss: 0.0101 - acc: 0.9967 - val_loss: 0.0253 - val_acc: 0.9919\n",
            "\n",
            "Epoch 00018: val_acc did not improve from 0.99270\n",
            "Epoch 19/50\n",
            "\n",
            "Epoch 00019: LearningRateScheduler setting learning rate to 0.0004449718.\n",
            "60000/60000 [==============================] - 36s 594us/step - loss: 0.0096 - acc: 0.9969 - val_loss: 0.0254 - val_acc: 0.9926\n",
            "\n",
            "Epoch 00019: val_acc did not improve from 0.99270\n",
            "Epoch 20/50\n",
            "\n",
            "Epoch 00020: LearningRateScheduler setting learning rate to 0.000424869.\n",
            "60000/60000 [==============================] - 38s 629us/step - loss: 0.0100 - acc: 0.9967 - val_loss: 0.0248 - val_acc: 0.9916\n",
            "\n",
            "Epoch 00020: val_acc did not improve from 0.99270\n",
            "Epoch 21/50\n",
            "\n",
            "Epoch 00021: LearningRateScheduler setting learning rate to 0.0004065041.\n",
            "60000/60000 [==============================] - 38s 630us/step - loss: 0.0098 - acc: 0.9970 - val_loss: 0.0233 - val_acc: 0.9930\n",
            "\n",
            "Epoch 00021: val_acc improved from 0.99270 to 0.99300, saving model to /content/gdrive/My Drive/EVA/P3/Try2/Iter3 - BestExp.hdf5\n",
            "Epoch 22/50\n",
            "\n",
            "Epoch 00022: LearningRateScheduler setting learning rate to 0.000389661.\n",
            "60000/60000 [==============================] - 38s 628us/step - loss: 0.0091 - acc: 0.9972 - val_loss: 0.0241 - val_acc: 0.9929\n",
            "\n",
            "Epoch 00022: val_acc did not improve from 0.99300\n",
            "Epoch 23/50\n",
            "\n",
            "Epoch 00023: LearningRateScheduler setting learning rate to 0.0003741581.\n",
            "60000/60000 [==============================] - 38s 626us/step - loss: 0.0090 - acc: 0.9970 - val_loss: 0.0238 - val_acc: 0.9919\n",
            "\n",
            "Epoch 00023: val_acc did not improve from 0.99300\n",
            "Epoch 24/50\n",
            "\n",
            "Epoch 00024: LearningRateScheduler setting learning rate to 0.0003598417.\n",
            "60000/60000 [==============================] - 37s 608us/step - loss: 0.0085 - acc: 0.9970 - val_loss: 0.0236 - val_acc: 0.9925\n",
            "\n",
            "Epoch 00024: val_acc did not improve from 0.99300\n",
            "Epoch 25/50\n",
            "\n",
            "Epoch 00025: LearningRateScheduler setting learning rate to 0.0003465804.\n",
            "60000/60000 [==============================] - 35s 584us/step - loss: 0.0083 - acc: 0.9972 - val_loss: 0.0223 - val_acc: 0.9929\n",
            "\n",
            "Epoch 00025: val_acc did not improve from 0.99300\n",
            "Epoch 26/50\n",
            "\n",
            "Epoch 00026: LearningRateScheduler setting learning rate to 0.0003342618.\n",
            "60000/60000 [==============================] - 36s 594us/step - loss: 0.0069 - acc: 0.9979 - val_loss: 0.0249 - val_acc: 0.9921\n",
            "\n",
            "Epoch 00026: val_acc did not improve from 0.99300\n",
            "Epoch 27/50\n",
            "\n",
            "Epoch 00027: LearningRateScheduler setting learning rate to 0.0003227889.\n",
            "60000/60000 [==============================] - 36s 593us/step - loss: 0.0071 - acc: 0.9975 - val_loss: 0.0256 - val_acc: 0.9922\n",
            "\n",
            "Epoch 00027: val_acc did not improve from 0.99300\n",
            "Epoch 28/50\n",
            "\n",
            "Epoch 00028: LearningRateScheduler setting learning rate to 0.0003120774.\n",
            "60000/60000 [==============================] - 35s 585us/step - loss: 0.0071 - acc: 0.9977 - val_loss: 0.0249 - val_acc: 0.9916\n",
            "\n",
            "Epoch 00028: val_acc did not improve from 0.99300\n",
            "Epoch 29/50\n",
            "\n",
            "Epoch 00029: LearningRateScheduler setting learning rate to 0.000302054.\n",
            "60000/60000 [==============================] - 36s 592us/step - loss: 0.0070 - acc: 0.9978 - val_loss: 0.0256 - val_acc: 0.9916\n",
            "\n",
            "Epoch 00029: val_acc did not improve from 0.99300\n",
            "Epoch 30/50\n",
            "\n",
            "Epoch 00030: LearningRateScheduler setting learning rate to 0.0002926544.\n",
            "60000/60000 [==============================] - 37s 610us/step - loss: 0.0065 - acc: 0.9981 - val_loss: 0.0249 - val_acc: 0.9919\n",
            "\n",
            "Epoch 00030: val_acc did not improve from 0.99300\n",
            "Epoch 31/50\n",
            "\n",
            "Epoch 00031: LearningRateScheduler setting learning rate to 0.0002838221.\n",
            "60000/60000 [==============================] - 37s 616us/step - loss: 0.0068 - acc: 0.9978 - val_loss: 0.0225 - val_acc: 0.9927\n",
            "\n",
            "Epoch 00031: val_acc did not improve from 0.99300\n",
            "Epoch 32/50\n",
            "\n",
            "Epoch 00032: LearningRateScheduler setting learning rate to 0.0002755074.\n",
            "60000/60000 [==============================] - 39s 651us/step - loss: 0.0062 - acc: 0.9980 - val_loss: 0.0242 - val_acc: 0.9923\n",
            "\n",
            "Epoch 00032: val_acc did not improve from 0.99300\n",
            "Epoch 33/50\n",
            "\n",
            "Epoch 00033: LearningRateScheduler setting learning rate to 0.000267666.\n",
            "60000/60000 [==============================] - 57s 946us/step - loss: 0.0061 - acc: 0.9980 - val_loss: 0.0248 - val_acc: 0.9922\n",
            "\n",
            "Epoch 00033: val_acc did not improve from 0.99300\n",
            "Epoch 34/50\n",
            "\n",
            "Epoch 00034: LearningRateScheduler setting learning rate to 0.0002602585.\n",
            "60000/60000 [==============================] - 63s 1ms/step - loss: 0.0065 - acc: 0.9980 - val_loss: 0.0246 - val_acc: 0.9921\n",
            "\n",
            "Epoch 00034: val_acc did not improve from 0.99300\n",
            "Epoch 35/50\n",
            "\n",
            "Epoch 00035: LearningRateScheduler setting learning rate to 0.00025325.\n",
            "60000/60000 [==============================] - 63s 1ms/step - loss: 0.0059 - acc: 0.9979 - val_loss: 0.0248 - val_acc: 0.9920\n",
            "\n",
            "Epoch 00035: val_acc did not improve from 0.99300\n",
            "Epoch 36/50\n",
            "\n",
            "Epoch 00036: LearningRateScheduler setting learning rate to 0.0002466091.\n",
            "60000/60000 [==============================] - 63s 1ms/step - loss: 0.0064 - acc: 0.9980 - val_loss: 0.0250 - val_acc: 0.9924\n",
            "\n",
            "Epoch 00036: val_acc did not improve from 0.99300\n",
            "Epoch 37/50\n",
            "\n",
            "Epoch 00037: LearningRateScheduler setting learning rate to 0.0002403076.\n",
            "60000/60000 [==============================] - 63s 1ms/step - loss: 0.0053 - acc: 0.9982 - val_loss: 0.0249 - val_acc: 0.9922\n",
            "\n",
            "Epoch 00037: val_acc did not improve from 0.99300\n",
            "Epoch 38/50\n",
            "\n",
            "Epoch 00038: LearningRateScheduler setting learning rate to 0.0002343201.\n",
            "60000/60000 [==============================] - 65s 1ms/step - loss: 0.0051 - acc: 0.9985 - val_loss: 0.0250 - val_acc: 0.9928\n",
            "\n",
            "Epoch 00038: val_acc did not improve from 0.99300\n",
            "Epoch 39/50\n",
            "\n",
            "Epoch 00039: LearningRateScheduler setting learning rate to 0.0002286237.\n",
            "60000/60000 [==============================] - 64s 1ms/step - loss: 0.0054 - acc: 0.9982 - val_loss: 0.0242 - val_acc: 0.9925\n",
            "\n",
            "Epoch 00039: val_acc did not improve from 0.99300\n",
            "Epoch 40/50\n",
            "\n",
            "Epoch 00040: LearningRateScheduler setting learning rate to 0.0002231977.\n",
            "60000/60000 [==============================] - 64s 1ms/step - loss: 0.0055 - acc: 0.9981 - val_loss: 0.0230 - val_acc: 0.9926\n",
            "\n",
            "Epoch 00040: val_acc did not improve from 0.99300\n",
            "Epoch 41/50\n",
            "\n",
            "Epoch 00041: LearningRateScheduler setting learning rate to 0.0002180233.\n",
            "60000/60000 [==============================] - 65s 1ms/step - loss: 0.0050 - acc: 0.9985 - val_loss: 0.0245 - val_acc: 0.9922\n",
            "\n",
            "Epoch 00041: val_acc did not improve from 0.99300\n",
            "Epoch 42/50\n",
            "\n",
            "Epoch 00042: LearningRateScheduler setting learning rate to 0.0002130833.\n",
            "60000/60000 [==============================] - 64s 1ms/step - loss: 0.0047 - acc: 0.9987 - val_loss: 0.0249 - val_acc: 0.9929\n",
            "\n",
            "Epoch 00042: val_acc did not improve from 0.99300\n",
            "Epoch 43/50\n",
            "\n",
            "Epoch 00043: LearningRateScheduler setting learning rate to 0.0002083623.\n",
            "60000/60000 [==============================] - 65s 1ms/step - loss: 0.0049 - acc: 0.9985 - val_loss: 0.0257 - val_acc: 0.9918\n",
            "\n",
            "Epoch 00043: val_acc did not improve from 0.99300\n",
            "Epoch 44/50\n",
            "\n",
            "Epoch 00044: LearningRateScheduler setting learning rate to 0.0002038459.\n",
            "60000/60000 [==============================] - 64s 1ms/step - loss: 0.0049 - acc: 0.9985 - val_loss: 0.0255 - val_acc: 0.9928\n",
            "\n",
            "Epoch 00044: val_acc did not improve from 0.99300\n",
            "Epoch 45/50\n",
            "\n",
            "Epoch 00045: LearningRateScheduler setting learning rate to 0.0001995211.\n",
            "60000/60000 [==============================] - 64s 1ms/step - loss: 0.0051 - acc: 0.9982 - val_loss: 0.0248 - val_acc: 0.9925\n",
            "\n",
            "Epoch 00045: val_acc did not improve from 0.99300\n",
            "Epoch 46/50\n",
            "\n",
            "Epoch 00046: LearningRateScheduler setting learning rate to 0.0001953761.\n",
            "60000/60000 [==============================] - 65s 1ms/step - loss: 0.0048 - acc: 0.9985 - val_loss: 0.0253 - val_acc: 0.9925\n",
            "\n",
            "Epoch 00046: val_acc did not improve from 0.99300\n",
            "Epoch 47/50\n",
            "\n",
            "Epoch 00047: LearningRateScheduler setting learning rate to 0.0001913998.\n",
            "60000/60000 [==============================] - 65s 1ms/step - loss: 0.0053 - acc: 0.9982 - val_loss: 0.0244 - val_acc: 0.9931\n",
            "\n",
            "Epoch 00047: val_acc improved from 0.99300 to 0.99310, saving model to /content/gdrive/My Drive/EVA/P3/Try2/Iter3 - BestExp.hdf5\n",
            "Epoch 48/50\n",
            "\n",
            "Epoch 00048: LearningRateScheduler setting learning rate to 0.0001875821.\n",
            "60000/60000 [==============================] - 64s 1ms/step - loss: 0.0049 - acc: 0.9983 - val_loss: 0.0234 - val_acc: 0.9932\n",
            "\n",
            "Epoch 00048: val_acc improved from 0.99310 to 0.99320, saving model to /content/gdrive/My Drive/EVA/P3/Try2/Iter3 - BestExp.hdf5\n",
            "Epoch 49/50\n",
            "\n",
            "Epoch 00049: LearningRateScheduler setting learning rate to 0.0001839137.\n",
            "60000/60000 [==============================] - 36s 602us/step - loss: 0.0046 - acc: 0.9985 - val_loss: 0.0254 - val_acc: 0.9924\n",
            "\n",
            "Epoch 00049: val_acc did not improve from 0.99320\n",
            "Epoch 50/50\n",
            "\n",
            "Epoch 00050: LearningRateScheduler setting learning rate to 0.000180386.\n",
            "60000/60000 [==============================] - 36s 605us/step - loss: 0.0046 - acc: 0.9985 - val_loss: 0.0246 - val_acc: 0.9931\n",
            "\n",
            "Epoch 00050: val_acc did not improve from 0.99320\n"
          ],
          "name": "stdout"
        },
        {
          "output_type": "execute_result",
          "data": {
            "text/plain": [
              "<keras.callbacks.History at 0x7fc728bbeac8>"
            ]
          },
          "metadata": {
            "tags": []
          },
          "execution_count": 50
        }
      ]
    },
    {
      "cell_type": "code",
      "metadata": {
        "id": "9COypMAljzOE",
        "colab_type": "code",
        "colab": {}
      },
      "source": [
        "# Loading best model from the initial training\n",
        "model.load_weights(\"/content/gdrive/My Drive/EVA/P3/Try2/Iter3 - BestExp.hdf5\")"
      ],
      "execution_count": 0,
      "outputs": []
    },
    {
      "cell_type": "code",
      "metadata": {
        "id": "AtsH-lLk-eLb",
        "colab_type": "code",
        "colab": {}
      },
      "source": [
        "# Evaluating the model on the test data\n",
        "score = model.evaluate(X_test, Y_test, verbose=0)"
      ],
      "execution_count": 0,
      "outputs": []
    },
    {
      "cell_type": "code",
      "metadata": {
        "id": "mkX8JMv79q9r",
        "colab_type": "code",
        "outputId": "7d6929ca-97f4-4ad6-f61f-7007408a1421",
        "colab": {
          "base_uri": "https://localhost:8080/",
          "height": 35
        }
      },
      "source": [
        "# Printing test score\n",
        "print(score)"
      ],
      "execution_count": 45,
      "outputs": [
        {
          "output_type": "stream",
          "text": [
            "[0.03576093653029134, 0.9921]\n"
          ],
          "name": "stdout"
        }
      ]
    }
  ]
}