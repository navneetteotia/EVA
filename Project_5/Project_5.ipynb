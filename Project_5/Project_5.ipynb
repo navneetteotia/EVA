{
  "nbformat": 4,
  "nbformat_minor": 0,
  "metadata": {
    "colab": {
      "name": "Project 5.ipynb",
      "version": "0.3.2",
      "provenance": [],
      "collapsed_sections": []
    },
    "kernelspec": {
      "name": "python3",
      "display_name": "Python 3"
    },
    "accelerator": "GPU"
  },
  "cells": [
    {
      "cell_type": "markdown",
      "metadata": {
        "id": "aNyZv-Ec52ot",
        "colab_type": "text"
      },
      "source": [
        "##Project 5\n",
        "\n",
        "**Changes:**\n",
        "- Activation after Batch Normalization\n",
        "- L2 Regularization\n",
        "- Image Normalization\n",
        "\n",
        "**Result**:\n",
        "- Parameters: 14,708\n",
        "- Epochs Run: 40\n",
        "- Best Epoch: 35\n",
        "- Training Accuracy: 98.92\n",
        "- Validation Accuracy: 99.42\n"
      ]
    },
    {
      "cell_type": "code",
      "metadata": {
        "id": "3m3w1Cw49Zkt",
        "colab_type": "code",
        "colab": {}
      },
      "source": [
        "# Install and Import Keras\n",
        "# https://keras.io/\n",
        "!pip install -q keras\n",
        "import keras"
      ],
      "execution_count": 0,
      "outputs": []
    },
    {
      "cell_type": "code",
      "metadata": {
        "id": "Eso6UHE080D4",
        "colab_type": "code",
        "colab": {}
      },
      "source": [
        "# Importing the required libraries\n",
        "import numpy as np\n",
        "\n",
        "from keras.models import Sequential\n",
        "from keras.layers import Dense, Dropout, Activation, Flatten, Add, BatchNormalization, Activation\n",
        "from keras.layers import Convolution2D, MaxPooling2D\n",
        "from keras.utils import np_utils\n",
        "from keras.callbacks import ReduceLROnPlateau, CSVLogger, EarlyStopping, ModelCheckpoint\n",
        "from keras import regularizers\n",
        "from keras.preprocessing.image import ImageDataGenerator\n",
        "\n",
        "from keras.datasets import mnist"
      ],
      "execution_count": 0,
      "outputs": []
    },
    {
      "cell_type": "markdown",
      "metadata": {
        "id": "zByEi95J86RD",
        "colab_type": "text"
      },
      "source": [
        "### Load pre-shuffled MNIST data into train and test sets"
      ]
    },
    {
      "cell_type": "code",
      "metadata": {
        "id": "7eRM0QWN83PV",
        "colab_type": "code",
        "colab": {}
      },
      "source": [
        "# Load MNIST into train and test sets\n",
        "(X_train, y_train), (X_test, y_test) = mnist.load_data()"
      ],
      "execution_count": 0,
      "outputs": []
    },
    {
      "cell_type": "code",
      "metadata": {
        "id": "d3KOoBh_CFca",
        "colab_type": "code",
        "outputId": "920d151d-578b-4b5f-f147-a07c671574bc",
        "colab": {
          "base_uri": "https://localhost:8080/",
          "height": 35
        }
      },
      "source": [
        "# Connecting Drive to save models\n",
        "from google.colab import drive\n",
        "drive.mount('/content/gdrive')"
      ],
      "execution_count": 114,
      "outputs": [
        {
          "output_type": "stream",
          "text": [
            "Drive already mounted at /content/gdrive; to attempt to forcibly remount, call drive.mount(\"/content/gdrive\", force_remount=True).\n"
          ],
          "name": "stdout"
        }
      ]
    },
    {
      "cell_type": "code",
      "metadata": {
        "id": "4a4Be72j8-ZC",
        "colab_type": "code",
        "outputId": "ec232e08-6cf6-4d94-cb74-155d53c72526",
        "colab": {
          "base_uri": "https://localhost:8080/",
          "height": 304
        }
      },
      "source": [
        "# Looking at sample images\n",
        "print (X_train.shape)\n",
        "from matplotlib import pyplot as plt\n",
        "%matplotlib inline\n",
        "plt.imshow(X_train[234])"
      ],
      "execution_count": 125,
      "outputs": [
        {
          "output_type": "stream",
          "text": [
            "(60000, 28, 28)\n"
          ],
          "name": "stdout"
        },
        {
          "output_type": "execute_result",
          "data": {
            "text/plain": [
              "<matplotlib.image.AxesImage at 0x7f2168168390>"
            ]
          },
          "metadata": {
            "tags": []
          },
          "execution_count": 125
        },
        {
          "output_type": "display_data",
          "data": {
            "image/png": "[encoded data removed]",
            "text/plain": [
              "<Figure size 432x288 with 1 Axes>"
            ]
          },
          "metadata": {
            "tags": []
          }
        }
      ]
    },
    {
      "cell_type": "code",
      "metadata": {
        "id": "dkmprriw9AnZ",
        "colab_type": "code",
        "colab": {}
      },
      "source": [
        "# Defining shape of the sets\n",
        "X_train = X_train.reshape(X_train.shape[0], 28, 28,1)\n",
        "X_test = X_test.reshape(X_test.shape[0], 28, 28,1)"
      ],
      "execution_count": 0,
      "outputs": []
    },
    {
      "cell_type": "code",
      "metadata": {
        "id": "X2m4YS4E9CRh",
        "colab_type": "code",
        "colab": {}
      },
      "source": [
        "datagen = ImageDataGenerator(featurewise_center=True, featurewise_std_normalization=True)"
      ],
      "execution_count": 0,
      "outputs": []
    },
    {
      "cell_type": "code",
      "metadata": {
        "id": "0Mn0vAYD9DvB",
        "colab_type": "code",
        "outputId": "f517360d-7b01-4747-9b69-a35da6c78362",
        "colab": {
          "base_uri": "https://localhost:8080/",
          "height": 35
        }
      },
      "source": [
        "# Inspecting labels\n",
        "y_train[:10]"
      ],
      "execution_count": 128,
      "outputs": [
        {
          "output_type": "execute_result",
          "data": {
            "text/plain": [
              "array([5, 0, 4, 1, 9, 2, 1, 3, 1, 4], dtype=uint8)"
            ]
          },
          "metadata": {
            "tags": []
          },
          "execution_count": 128
        }
      ]
    },
    {
      "cell_type": "code",
      "metadata": {
        "id": "ZG8JiXR39FHC",
        "colab_type": "code",
        "colab": {}
      },
      "source": [
        "# Convert 1-dimensional class arrays to 10-dimensional class matrices\n",
        "Y_train = np_utils.to_categorical(y_train, 10)\n",
        "Y_test = np_utils.to_categorical(y_test, 10)"
      ],
      "execution_count": 0,
      "outputs": []
    },
    {
      "cell_type": "code",
      "metadata": {
        "id": "fYlFRvKS9HMB",
        "colab_type": "code",
        "outputId": "a049b034-d713-466c-fc20-8c63055a0ca0",
        "colab": {
          "base_uri": "https://localhost:8080/",
          "height": 191
        }
      },
      "source": [
        "# Inspectingt the categorized labels\n",
        "Y_train[20:30]"
      ],
      "execution_count": 130,
      "outputs": [
        {
          "output_type": "execute_result",
          "data": {
            "text/plain": [
              "array([[0., 0., 0., 0., 1., 0., 0., 0., 0., 0.],\n",
              "       [1., 0., 0., 0., 0., 0., 0., 0., 0., 0.],\n",
              "       [0., 0., 0., 0., 0., 0., 0., 0., 0., 1.],\n",
              "       [0., 1., 0., 0., 0., 0., 0., 0., 0., 0.],\n",
              "       [0., 1., 0., 0., 0., 0., 0., 0., 0., 0.],\n",
              "       [0., 0., 1., 0., 0., 0., 0., 0., 0., 0.],\n",
              "       [0., 0., 0., 0., 1., 0., 0., 0., 0., 0.],\n",
              "       [0., 0., 0., 1., 0., 0., 0., 0., 0., 0.],\n",
              "       [0., 0., 1., 0., 0., 0., 0., 0., 0., 0.],\n",
              "       [0., 0., 0., 0., 0., 0., 0., 1., 0., 0.]], dtype=float32)"
            ]
          },
          "metadata": {
            "tags": []
          },
          "execution_count": 130
        }
      ]
    },
    {
      "cell_type": "code",
      "metadata": {
        "id": "osKqT73Q9JJB",
        "colab_type": "code",
        "outputId": "b8032c96-a17c-48e0-8cbf-fea270372c75",
        "colab": {
          "base_uri": "https://localhost:8080/",
          "height": 1248
        }
      },
      "source": [
        "# Building the infrastructure\n",
        "model = Sequential()\n",
        " \n",
        "model.add(Convolution2D(8, 3, kernel_regularizer=regularizers.l2(0.01), input_shape=(28,28,1), name = \"C3-1\")) #26\n",
        "model.add(BatchNormalization(name = \"BN-C3-1\"))\n",
        "model.add(Activation('relu', name = 'Relu-C3-1'))\n",
        "model.add(Dropout(0.1, name = \"DO-C3-1\"))\n",
        "\n",
        "model.add(Convolution2D(16, 3, kernel_regularizer=regularizers.l2(0.01), name = \"C3-2\")) #24\n",
        "model.add(BatchNormalization(name = \"BN-C3-2\"))\n",
        "model.add(Activation('relu', name = 'Relu-C3-2'))\n",
        "model.add(Dropout(0.1, name = \"DO-C3-2\"))\n",
        "\n",
        "model.add(Convolution2D(16, 3, kernel_regularizer=regularizers.l2(0.01), name = \"C3-3\")) #22\n",
        "model.add(BatchNormalization(name = \"BN-C3-3\"))\n",
        "model.add(Activation('relu', name = 'Relu-C3-3'))\n",
        "model.add(Dropout(0.1, name = \"DO-C3-3\"))\n",
        "\n",
        "model.add(MaxPooling2D(2, name = \"MP1\")) #11\n",
        "\n",
        "model.add(Convolution2D(8, 1, kernel_regularizer=regularizers.l2(0.01), name = \"C1-1\")) #11\n",
        "model.add(BatchNormalization(name = \"BN-C1-1\"))\n",
        "model.add(Activation('relu', name = 'Relu-C1-1'))\n",
        "model.add(Dropout(0.1, name = \"DO-C1-1\"))\n",
        "\n",
        "model.add(Convolution2D(16, 3, kernel_regularizer=regularizers.l2(0.01), name = \"C3-4\")) #9\n",
        "model.add(BatchNormalization(name = \"BN-C3-4\"))\n",
        "model.add(Activation('relu', name = 'Relu-C3-4'))\n",
        "model.add(Dropout(0.1, name = \"DO-C3-4\"))\n",
        "\n",
        "model.add(Convolution2D(10, 1, kernel_regularizer=regularizers.l2(0.01), name = \"C1-2\")) #9\n",
        "model.add(BatchNormalization(name = \"BN-C1-2\"))\n",
        "model.add(Activation('relu', name = 'Relu-C1-2'))\n",
        "model.add(Dropout(0.1, name = \"DO-1-2\"))\n",
        "\n",
        "model.add(Convolution2D(16, 3, kernel_regularizer=regularizers.l2(0.01), name = \"C3-5\")) #7\n",
        "model.add(BatchNormalization(name = \"BN-C3-5\"))\n",
        "model.add(Activation('relu', name = 'Relu-C3-5'))\n",
        "model.add(Dropout(0.1, name = \"DO-C3-5\"))\n",
        "\n",
        "model.add(Convolution2D(10, 7, kernel_regularizer=regularizers.l2(0.01), name = \"C7-1\")) #1\n",
        "\n",
        "model.add(Flatten(name = \"F\"))\n",
        "model.add(Activation('softmax'))\n",
        "\n",
        "# Checking the model\n",
        "model.summary()"
      ],
      "execution_count": 131,
      "outputs": [
        {
          "output_type": "stream",
          "text": [
            "_________________________________________________________________\n",
            "Layer (type)                 Output Shape              Param #   \n",
            "=================================================================\n",
            "C3-1 (Conv2D)                (None, 26, 26, 8)         80        \n",
            "_________________________________________________________________\n",
            "BN-C3-1 (BatchNormalization) (None, 26, 26, 8)         32        \n",
            "_________________________________________________________________\n",
            "Relu-C3-1 (Activation)       (None, 26, 26, 8)         0         \n",
            "_________________________________________________________________\n",
            "DO-C3-1 (Dropout)            (None, 26, 26, 8)         0         \n",
            "_________________________________________________________________\n",
            "C3-2 (Conv2D)                (None, 24, 24, 16)        1168      \n",
            "_________________________________________________________________\n",
            "BN-C3-2 (BatchNormalization) (None, 24, 24, 16)        64        \n",
            "_________________________________________________________________\n",
            "Relu-C3-2 (Activation)       (None, 24, 24, 16)        0         \n",
            "_________________________________________________________________\n",
            "DO-C3-2 (Dropout)            (None, 24, 24, 16)        0         \n",
            "_________________________________________________________________\n",
            "C3-3 (Conv2D)                (None, 22, 22, 16)        2320      \n",
            "_________________________________________________________________\n",
            "BN-C3-3 (BatchNormalization) (None, 22, 22, 16)        64        \n",
            "_________________________________________________________________\n",
            "Relu-C3-3 (Activation)       (None, 22, 22, 16)        0         \n",
            "_________________________________________________________________\n",
            "DO-C3-3 (Dropout)            (None, 22, 22, 16)        0         \n",
            "_________________________________________________________________\n",
            "MP1 (MaxPooling2D)           (None, 11, 11, 16)        0         \n",
            "_________________________________________________________________\n",
            "C1-1 (Conv2D)                (None, 11, 11, 8)         136       \n",
            "_________________________________________________________________\n",
            "BN-C1-1 (BatchNormalization) (None, 11, 11, 8)         32        \n",
            "_________________________________________________________________\n",
            "Relu-C1-1 (Activation)       (None, 11, 11, 8)         0         \n",
            "_________________________________________________________________\n",
            "DO-C1-1 (Dropout)            (None, 11, 11, 8)         0         \n",
            "_________________________________________________________________\n",
            "C3-4 (Conv2D)                (None, 9, 9, 16)          1168      \n",
            "_________________________________________________________________\n",
            "BN-C3-4 (BatchNormalization) (None, 9, 9, 16)          64        \n",
            "_________________________________________________________________\n",
            "Relu-C3-4 (Activation)       (None, 9, 9, 16)          0         \n",
            "_________________________________________________________________\n",
            "DO-C3-4 (Dropout)            (None, 9, 9, 16)          0         \n",
            "_________________________________________________________________\n",
            "C1-2 (Conv2D)                (None, 9, 9, 10)          170       \n",
            "_________________________________________________________________\n",
            "BN-C1-2 (BatchNormalization) (None, 9, 9, 10)          40        \n",
            "_________________________________________________________________\n",
            "Relu-C1-2 (Activation)       (None, 9, 9, 10)          0         \n",
            "_________________________________________________________________\n",
            "DO-1-2 (Dropout)             (None, 9, 9, 10)          0         \n",
            "_________________________________________________________________\n",
            "C3-5 (Conv2D)                (None, 7, 7, 16)          1456      \n",
            "_________________________________________________________________\n",
            "BN-C3-5 (BatchNormalization) (None, 7, 7, 16)          64        \n",
            "_________________________________________________________________\n",
            "Relu-C3-5 (Activation)       (None, 7, 7, 16)          0         \n",
            "_________________________________________________________________\n",
            "DO-C3-5 (Dropout)            (None, 7, 7, 16)          0         \n",
            "_________________________________________________________________\n",
            "C7-1 (Conv2D)                (None, 1, 1, 10)          7850      \n",
            "_________________________________________________________________\n",
            "F (Flatten)                  (None, 10)                0         \n",
            "_________________________________________________________________\n",
            "activation_2 (Activation)    (None, 10)                0         \n",
            "=================================================================\n",
            "Total params: 14,708\n",
            "Trainable params: 14,528\n",
            "Non-trainable params: 180\n",
            "_________________________________________________________________\n"
          ],
          "name": "stdout"
        }
      ]
    },
    {
      "cell_type": "code",
      "metadata": {
        "id": "twZppaDl8FgJ",
        "colab_type": "code",
        "colab": {}
      },
      "source": [
        "from keras.optimizers import Adam\n",
        "from keras.callbacks import LearningRateScheduler\n",
        "def scheduler(epoch, lr):\n",
        "  return round(0.003 * 1/(1 + 0.319 * epoch), 10)"
      ],
      "execution_count": 0,
      "outputs": []
    },
    {
      "cell_type": "code",
      "metadata": {
        "id": "Zp6SuGrL9M3h",
        "colab_type": "code",
        "colab": {}
      },
      "source": [
        "# Compiling the model\n",
        "model.compile(loss='categorical_crossentropy',\n",
        "             optimizer=Adam(lr=0.003),\n",
        "             metrics=['accuracy'])"
      ],
      "execution_count": 0,
      "outputs": []
    },
    {
      "cell_type": "code",
      "metadata": {
        "id": "_WCBH6WW_zoh",
        "colab_type": "code",
        "colab": {}
      },
      "source": [
        "#lr_reducer = ReduceLROnPlateau(factor=np.sqrt(0.1), cooldown=0, patience=5, min_lr=0.5e-6)\n",
        "#early_stopper = EarlyStopping(min_delta=0.001, patience=10)\n",
        "csv_logger = CSVLogger('/content/gdrive/My Drive/EVA/P3/Try2/mnist.csv')\n",
        "\n",
        "filepath=\"/content/gdrive/My Drive/EVA/P3/Try2/P5 - BestExp2.hdf5\"\n",
        "checkpoint = ModelCheckpoint(filepath, monitor='val_acc', verbose=1, save_best_only=True, mode='max')"
      ],
      "execution_count": 0,
      "outputs": []
    },
    {
      "cell_type": "code",
      "metadata": {
        "id": "4xWoKhPY9Of5",
        "colab_type": "code",
        "outputId": "1accf40c-9c96-4a6f-c0da-10bba03a8031",
        "colab": {
          "base_uri": "https://localhost:8080/",
          "height": 4353
        }
      },
      "source": [
        "model.fit_generator(datagen.flow(X_train,\n",
        "                                Y_train,\n",
        "                                batch_size = 128),\n",
        "                    samples_per_epoch = X_train.shape[0],\n",
        "                    nb_epoch = 40,\n",
        "                    verbose = 1,\n",
        "                    validation_data = (X_test, Y_test),\n",
        "                    callbacks = [csv_logger, checkpoint, LearningRateScheduler(scheduler, verbose = 1)])"
      ],
      "execution_count": 136,
      "outputs": [
        {
          "output_type": "stream",
          "text": [
            "/usr/local/lib/python3.6/dist-packages/ipykernel_launcher.py:8: UserWarning: The semantics of the Keras 2 argument `steps_per_epoch` is not the same as the Keras 1 argument `samples_per_epoch`. `steps_per_epoch` is the number of batches to draw from the generator at each epoch. Basically steps_per_epoch = samples_per_epoch/batch_size. Similarly `nb_val_samples`->`validation_steps` and `val_samples`->`steps` arguments have changed. Update your method calls accordingly.\n",
            "  \n",
            "/usr/local/lib/python3.6/dist-packages/ipykernel_launcher.py:8: UserWarning: Update your `fit_generator` call to the Keras 2 API: `fit_generator(<keras_pre..., verbose=1, validation_data=(array([[[..., callbacks=[<keras.ca..., steps_per_epoch=468, epochs=40)`\n",
            "  \n"
          ],
          "name": "stderr"
        },
        {
          "output_type": "stream",
          "text": [
            "Epoch 1/40\n"
          ],
          "name": "stdout"
        },
        {
          "output_type": "stream",
          "text": [
            "/usr/local/lib/python3.6/dist-packages/keras_preprocessing/image/image_data_generator.py:716: UserWarning: This ImageDataGenerator specifies `featurewise_center`, but it hasn't been fit on any training data. Fit it first by calling `.fit(numpy_data)`.\n",
            "  warnings.warn('This ImageDataGenerator specifies '\n",
            "/usr/local/lib/python3.6/dist-packages/keras_preprocessing/image/image_data_generator.py:724: UserWarning: This ImageDataGenerator specifies `featurewise_std_normalization`, but it hasn't been fit on any training data. Fit it first by calling `.fit(numpy_data)`.\n",
            "  warnings.warn('This ImageDataGenerator specifies '\n"
          ],
          "name": "stderr"
        },
        {
          "output_type": "stream",
          "text": [
            "\n",
            "Epoch 00001: LearningRateScheduler setting learning rate to 0.003.\n",
            "468/468 [==============================] - 9s 20ms/step - loss: 0.5249 - acc: 0.9319 - val_loss: 0.5256 - val_acc: 0.9281\n",
            "\n",
            "Epoch 00001: val_acc improved from -inf to 0.92810, saving model to /content/gdrive/My Drive/EVA/P3/Try2/P5 - BestExp2.hdf5\n",
            "Epoch 2/40\n",
            "\n",
            "Epoch 00002: LearningRateScheduler setting learning rate to 0.0022744503.\n",
            "468/468 [==============================] - 7s 15ms/step - loss: 0.1879 - acc: 0.9728 - val_loss: 0.1817 - val_acc: 0.9751\n",
            "\n",
            "Epoch 00002: val_acc improved from 0.92810 to 0.97510, saving model to /content/gdrive/My Drive/EVA/P3/Try2/P5 - BestExp2.hdf5\n",
            "Epoch 3/40\n",
            "\n",
            "Epoch 00003: LearningRateScheduler setting learning rate to 0.0018315018.\n",
            "468/468 [==============================] - 7s 15ms/step - loss: 0.1548 - acc: 0.9769 - val_loss: 0.1485 - val_acc: 0.9769\n",
            "\n",
            "Epoch 00003: val_acc improved from 0.97510 to 0.97690, saving model to /content/gdrive/My Drive/EVA/P3/Try2/P5 - BestExp2.hdf5\n",
            "Epoch 4/40\n",
            "\n",
            "Epoch 00004: LearningRateScheduler setting learning rate to 0.0015329586.\n",
            "468/468 [==============================] - 7s 15ms/step - loss: 0.1388 - acc: 0.9787 - val_loss: 0.1248 - val_acc: 0.9827\n",
            "\n",
            "Epoch 00004: val_acc improved from 0.97690 to 0.98270, saving model to /content/gdrive/My Drive/EVA/P3/Try2/P5 - BestExp2.hdf5\n",
            "Epoch 5/40\n",
            "\n",
            "Epoch 00005: LearningRateScheduler setting learning rate to 0.0013181019.\n",
            "468/468 [==============================] - 7s 15ms/step - loss: 0.1291 - acc: 0.9797 - val_loss: 0.1133 - val_acc: 0.9830\n",
            "\n",
            "Epoch 00005: val_acc improved from 0.98270 to 0.98300, saving model to /content/gdrive/My Drive/EVA/P3/Try2/P5 - BestExp2.hdf5\n",
            "Epoch 6/40\n",
            "\n",
            "Epoch 00006: LearningRateScheduler setting learning rate to 0.0011560694.\n",
            "468/468 [==============================] - 7s 15ms/step - loss: 0.1175 - acc: 0.9818 - val_loss: 0.1096 - val_acc: 0.9852\n",
            "\n",
            "Epoch 00006: val_acc improved from 0.98300 to 0.98520, saving model to /content/gdrive/My Drive/EVA/P3/Try2/P5 - BestExp2.hdf5\n",
            "Epoch 7/40\n",
            "\n",
            "Epoch 00007: LearningRateScheduler setting learning rate to 0.0010295127.\n",
            "468/468 [==============================] - 7s 15ms/step - loss: 0.1142 - acc: 0.9820 - val_loss: 0.1221 - val_acc: 0.9805\n",
            "\n",
            "Epoch 00007: val_acc did not improve from 0.98520\n",
            "Epoch 8/40\n",
            "\n",
            "Epoch 00008: LearningRateScheduler setting learning rate to 0.0009279307.\n",
            "468/468 [==============================] - 7s 15ms/step - loss: 0.1060 - acc: 0.9832 - val_loss: 0.1007 - val_acc: 0.9848\n",
            "\n",
            "Epoch 00008: val_acc did not improve from 0.98520\n",
            "Epoch 9/40\n",
            "\n",
            "Epoch 00009: LearningRateScheduler setting learning rate to 0.0008445946.\n",
            "468/468 [==============================] - 7s 15ms/step - loss: 0.1021 - acc: 0.9836 - val_loss: 0.1238 - val_acc: 0.9773\n",
            "\n",
            "Epoch 00009: val_acc did not improve from 0.98520\n",
            "Epoch 10/40\n",
            "\n",
            "Epoch 00010: LearningRateScheduler setting learning rate to 0.0007749935.\n",
            "468/468 [==============================] - 7s 15ms/step - loss: 0.0961 - acc: 0.9846 - val_loss: 0.1026 - val_acc: 0.9823\n",
            "\n",
            "Epoch 00010: val_acc did not improve from 0.98520\n",
            "Epoch 11/40\n",
            "\n",
            "Epoch 00011: LearningRateScheduler setting learning rate to 0.0007159905.\n",
            "468/468 [==============================] - 7s 15ms/step - loss: 0.0952 - acc: 0.9835 - val_loss: 0.1229 - val_acc: 0.9740\n",
            "\n",
            "Epoch 00011: val_acc did not improve from 0.98520\n",
            "Epoch 12/40\n",
            "\n",
            "Epoch 00012: LearningRateScheduler setting learning rate to 0.000665336.\n",
            "468/468 [==============================] - 7s 15ms/step - loss: 0.0894 - acc: 0.9853 - val_loss: 0.0920 - val_acc: 0.9840\n",
            "\n",
            "Epoch 00012: val_acc did not improve from 0.98520\n",
            "Epoch 13/40\n",
            "\n",
            "Epoch 00013: LearningRateScheduler setting learning rate to 0.0006213753.\n",
            "468/468 [==============================] - 7s 15ms/step - loss: 0.0876 - acc: 0.9852 - val_loss: 0.0794 - val_acc: 0.9880\n",
            "\n",
            "Epoch 00013: val_acc improved from 0.98520 to 0.98800, saving model to /content/gdrive/My Drive/EVA/P3/Try2/P5 - BestExp2.hdf5\n",
            "Epoch 14/40\n",
            "\n",
            "Epoch 00014: LearningRateScheduler setting learning rate to 0.0005828638.\n",
            "468/468 [==============================] - 7s 15ms/step - loss: 0.0839 - acc: 0.9858 - val_loss: 0.0660 - val_acc: 0.9912\n",
            "\n",
            "Epoch 00014: val_acc improved from 0.98800 to 0.99120, saving model to /content/gdrive/My Drive/EVA/P3/Try2/P5 - BestExp2.hdf5\n",
            "Epoch 15/40\n",
            "\n",
            "Epoch 00015: LearningRateScheduler setting learning rate to 0.0005488474.\n",
            "468/468 [==============================] - 7s 15ms/step - loss: 0.0812 - acc: 0.9862 - val_loss: 0.0686 - val_acc: 0.9900\n",
            "\n",
            "Epoch 00015: val_acc did not improve from 0.99120\n",
            "Epoch 16/40\n",
            "\n",
            "Epoch 00016: LearningRateScheduler setting learning rate to 0.0005185825.\n",
            "468/468 [==============================] - 7s 15ms/step - loss: 0.0800 - acc: 0.9859 - val_loss: 0.0713 - val_acc: 0.9899\n",
            "\n",
            "Epoch 00016: val_acc did not improve from 0.99120\n",
            "Epoch 17/40\n",
            "\n",
            "Epoch 00017: LearningRateScheduler setting learning rate to 0.000491481.\n",
            "468/468 [==============================] - 7s 15ms/step - loss: 0.0761 - acc: 0.9873 - val_loss: 0.0680 - val_acc: 0.9896\n",
            "\n",
            "Epoch 00017: val_acc did not improve from 0.99120\n",
            "Epoch 18/40\n",
            "\n",
            "Epoch 00018: LearningRateScheduler setting learning rate to 0.0004670715.\n",
            "468/468 [==============================] - 7s 15ms/step - loss: 0.0764 - acc: 0.9871 - val_loss: 0.0620 - val_acc: 0.9911\n",
            "\n",
            "Epoch 00018: val_acc did not improve from 0.99120\n",
            "Epoch 19/40\n",
            "\n",
            "Epoch 00019: LearningRateScheduler setting learning rate to 0.0004449718.\n",
            "468/468 [==============================] - 7s 15ms/step - loss: 0.0741 - acc: 0.9873 - val_loss: 0.0780 - val_acc: 0.9861\n",
            "\n",
            "Epoch 00019: val_acc did not improve from 0.99120\n",
            "Epoch 20/40\n",
            "\n",
            "Epoch 00020: LearningRateScheduler setting learning rate to 0.000424869.\n",
            "468/468 [==============================] - 7s 15ms/step - loss: 0.0725 - acc: 0.9879 - val_loss: 0.0616 - val_acc: 0.9912\n",
            "\n",
            "Epoch 00020: val_acc did not improve from 0.99120\n",
            "Epoch 21/40\n",
            "\n",
            "Epoch 00021: LearningRateScheduler setting learning rate to 0.0004065041.\n",
            "468/468 [==============================] - 7s 15ms/step - loss: 0.0712 - acc: 0.9878 - val_loss: 0.0600 - val_acc: 0.9909\n",
            "\n",
            "Epoch 00021: val_acc did not improve from 0.99120\n",
            "Epoch 22/40\n",
            "\n",
            "Epoch 00022: LearningRateScheduler setting learning rate to 0.000389661.\n",
            "468/468 [==============================] - 7s 15ms/step - loss: 0.0702 - acc: 0.9878 - val_loss: 0.0600 - val_acc: 0.9906\n",
            "\n",
            "Epoch 00022: val_acc did not improve from 0.99120\n",
            "Epoch 23/40\n",
            "\n",
            "Epoch 00023: LearningRateScheduler setting learning rate to 0.0003741581.\n",
            "468/468 [==============================] - 7s 15ms/step - loss: 0.0670 - acc: 0.9885 - val_loss: 0.0593 - val_acc: 0.9903\n",
            "\n",
            "Epoch 00023: val_acc did not improve from 0.99120\n",
            "Epoch 24/40\n",
            "\n",
            "Epoch 00024: LearningRateScheduler setting learning rate to 0.0003598417.\n",
            "468/468 [==============================] - 7s 15ms/step - loss: 0.0669 - acc: 0.9882 - val_loss: 0.0604 - val_acc: 0.9897\n",
            "\n",
            "Epoch 00024: val_acc did not improve from 0.99120\n",
            "Epoch 25/40\n",
            "\n",
            "Epoch 00025: LearningRateScheduler setting learning rate to 0.0003465804.\n",
            "468/468 [==============================] - 7s 15ms/step - loss: 0.0659 - acc: 0.9884 - val_loss: 0.0579 - val_acc: 0.9908\n",
            "\n",
            "Epoch 00025: val_acc did not improve from 0.99120\n",
            "Epoch 26/40\n",
            "\n",
            "Epoch 00026: LearningRateScheduler setting learning rate to 0.0003342618.\n",
            "468/468 [==============================] - 7s 15ms/step - loss: 0.0645 - acc: 0.9889 - val_loss: 0.0588 - val_acc: 0.9909\n",
            "\n",
            "Epoch 00026: val_acc did not improve from 0.99120\n",
            "Epoch 27/40\n",
            "\n",
            "Epoch 00027: LearningRateScheduler setting learning rate to 0.0003227889.\n",
            "468/468 [==============================] - 7s 16ms/step - loss: 0.0634 - acc: 0.9893 - val_loss: 0.0510 - val_acc: 0.9931\n",
            "\n",
            "Epoch 00027: val_acc improved from 0.99120 to 0.99310, saving model to /content/gdrive/My Drive/EVA/P3/Try2/P5 - BestExp2.hdf5\n",
            "Epoch 28/40\n",
            "\n",
            "Epoch 00028: LearningRateScheduler setting learning rate to 0.0003120774.\n",
            "468/468 [==============================] - 7s 15ms/step - loss: 0.0619 - acc: 0.9894 - val_loss: 0.0562 - val_acc: 0.9917\n",
            "\n",
            "Epoch 00028: val_acc did not improve from 0.99310\n",
            "Epoch 29/40\n",
            "\n",
            "Epoch 00029: LearningRateScheduler setting learning rate to 0.000302054.\n",
            "468/468 [==============================] - 7s 15ms/step - loss: 0.0625 - acc: 0.9889 - val_loss: 0.0567 - val_acc: 0.9907\n",
            "\n",
            "Epoch 00029: val_acc did not improve from 0.99310\n",
            "Epoch 30/40\n",
            "\n",
            "Epoch 00030: LearningRateScheduler setting learning rate to 0.0002926544.\n",
            "468/468 [==============================] - 7s 15ms/step - loss: 0.0615 - acc: 0.9893 - val_loss: 0.0553 - val_acc: 0.9916\n",
            "\n",
            "Epoch 00030: val_acc did not improve from 0.99310\n",
            "Epoch 31/40\n",
            "\n",
            "Epoch 00031: LearningRateScheduler setting learning rate to 0.0002838221.\n",
            "468/468 [==============================] - 7s 15ms/step - loss: 0.0606 - acc: 0.9892 - val_loss: 0.0606 - val_acc: 0.9888\n",
            "\n",
            "Epoch 00031: val_acc did not improve from 0.99310\n",
            "Epoch 32/40\n",
            "\n",
            "Epoch 00032: LearningRateScheduler setting learning rate to 0.0002755074.\n",
            "468/468 [==============================] - 7s 15ms/step - loss: 0.0609 - acc: 0.9891 - val_loss: 0.0484 - val_acc: 0.9930\n",
            "\n",
            "Epoch 00032: val_acc did not improve from 0.99310\n",
            "Epoch 33/40\n",
            "\n",
            "Epoch 00033: LearningRateScheduler setting learning rate to 0.000267666.\n",
            "468/468 [==============================] - 7s 15ms/step - loss: 0.0594 - acc: 0.9900 - val_loss: 0.0527 - val_acc: 0.9914\n",
            "\n",
            "Epoch 00033: val_acc did not improve from 0.99310\n",
            "Epoch 34/40\n",
            "\n",
            "Epoch 00034: LearningRateScheduler setting learning rate to 0.0002602585.\n",
            "468/468 [==============================] - 7s 15ms/step - loss: 0.0585 - acc: 0.9898 - val_loss: 0.0559 - val_acc: 0.9911\n",
            "\n",
            "Epoch 00034: val_acc did not improve from 0.99310\n",
            "Epoch 35/40\n",
            "\n",
            "Epoch 00035: LearningRateScheduler setting learning rate to 0.00025325.\n",
            "468/468 [==============================] - 7s 15ms/step - loss: 0.0586 - acc: 0.9892 - val_loss: 0.0457 - val_acc: 0.9942\n",
            "\n",
            "Epoch 00035: val_acc improved from 0.99310 to 0.99420, saving model to /content/gdrive/My Drive/EVA/P3/Try2/P5 - BestExp2.hdf5\n",
            "Epoch 36/40\n",
            "\n",
            "Epoch 00036: LearningRateScheduler setting learning rate to 0.0002466091.\n",
            "468/468 [==============================] - 7s 15ms/step - loss: 0.0564 - acc: 0.9903 - val_loss: 0.0507 - val_acc: 0.9909\n",
            "\n",
            "Epoch 00036: val_acc did not improve from 0.99420\n",
            "Epoch 37/40\n",
            "\n",
            "Epoch 00037: LearningRateScheduler setting learning rate to 0.0002403076.\n",
            "468/468 [==============================] - 7s 15ms/step - loss: 0.0557 - acc: 0.9906 - val_loss: 0.0495 - val_acc: 0.9908\n",
            "\n",
            "Epoch 00037: val_acc did not improve from 0.99420\n",
            "Epoch 38/40\n",
            "\n",
            "Epoch 00038: LearningRateScheduler setting learning rate to 0.0002343201.\n",
            "468/468 [==============================] - 7s 15ms/step - loss: 0.0553 - acc: 0.9901 - val_loss: 0.0504 - val_acc: 0.9916\n",
            "\n",
            "Epoch 00038: val_acc did not improve from 0.99420\n",
            "Epoch 39/40\n",
            "\n",
            "Epoch 00039: LearningRateScheduler setting learning rate to 0.0002286237.\n",
            "468/468 [==============================] - 7s 15ms/step - loss: 0.0541 - acc: 0.9905 - val_loss: 0.0500 - val_acc: 0.9922\n",
            "\n",
            "Epoch 00039: val_acc did not improve from 0.99420\n",
            "Epoch 40/40\n",
            "\n",
            "Epoch 00040: LearningRateScheduler setting learning rate to 0.0002231977.\n",
            "468/468 [==============================] - 7s 15ms/step - loss: 0.0543 - acc: 0.9908 - val_loss: 0.0482 - val_acc: 0.9917\n",
            "\n",
            "Epoch 00040: val_acc did not improve from 0.99420\n"
          ],
          "name": "stdout"
        },
        {
          "output_type": "execute_result",
          "data": {
            "text/plain": [
              "<keras.callbacks.History at 0x7f216810cfd0>"
            ]
          },
          "metadata": {
            "tags": []
          },
          "execution_count": 136
        }
      ]
    },
    {
      "cell_type": "code",
      "metadata": {
        "id": "9COypMAljzOE",
        "colab_type": "code",
        "colab": {}
      },
      "source": [
        "# Loading best model from the initial training\n",
        "model.load_weights(\"/content/gdrive/My Drive/EVA/P3/Try2/P5 - BestExp2.hdf5\")"
      ],
      "execution_count": 0,
      "outputs": []
    },
    {
      "cell_type": "code",
      "metadata": {
        "id": "AtsH-lLk-eLb",
        "colab_type": "code",
        "colab": {}
      },
      "source": [
        "# Evaluating the model on the test data\n",
        "score = model.evaluate(X_test, Y_test, verbose=0)"
      ],
      "execution_count": 0,
      "outputs": []
    },
    {
      "cell_type": "code",
      "metadata": {
        "id": "mkX8JMv79q9r",
        "colab_type": "code",
        "outputId": "ddb9524b-9d39-4513-b476-ff930d22d732",
        "colab": {
          "base_uri": "https://localhost:8080/",
          "height": 35
        }
      },
      "source": [
        "# Printing test score\n",
        "print(score)"
      ],
      "execution_count": 139,
      "outputs": [
        {
          "output_type": "stream",
          "text": [
            "[0.045651258340477945, 0.9942]\n"
          ],
          "name": "stdout"
        }
      ]
    },
    {
      "cell_type": "code",
      "metadata": {
        "id": "AfMXu1gyxYiO",
        "colab_type": "code",
        "colab": {}
      },
      "source": [
        "# Indexing the incorrect predictions\n",
        "incorrects = np.nonzero(model.predict_classes(X_test).reshape((-1,)) != y_test)"
      ],
      "execution_count": 0,
      "outputs": []
    },
    {
      "cell_type": "code",
      "metadata": {
        "id": "l51z6mqcxgVt",
        "colab_type": "code",
        "colab": {}
      },
      "source": [
        "# Load MNIST into train and test sets again since dimensions were changed in the initial set\n",
        "(X_train2, y_train2), (X_test2, y_test2) = mnist.load_data()"
      ],
      "execution_count": 0,
      "outputs": []
    },
    {
      "cell_type": "code",
      "metadata": {
        "id": "UvUJTcAByBAW",
        "colab_type": "code",
        "colab": {}
      },
      "source": [
        "# Creating sets of wrong presictions: Images,  Actual labels, and Predicted labels\n",
        "wrong_x = X_test2[incorrects[0]]\n",
        "wrong_y = y_test2[incorrects[0]]\n",
        "wrong_p = model.predict_classes(X_test[incorrects[0]])"
      ],
      "execution_count": 0,
      "outputs": []
    },
    {
      "cell_type": "code",
      "metadata": {
        "id": "GAfWTaem8Eoq",
        "colab_type": "code",
        "colab": {
          "base_uri": "https://localhost:8080/",
          "height": 867
        },
        "outputId": "191af2d1-25b6-4d19-88d5-6ca41116b129"
      },
      "source": [
        "# Plotting wrongly classified images\n",
        "fig = plt.figure(figsize=(15,15))\n",
        "for i in range(25):\n",
        "  ax = fig.add_subplot(5, 5, i + 1, xticks = [], yticks = [])\n",
        "  im = wrong_x[i]\n",
        "  ax.set_title('Actual: %s | Predicted: %s' % (wrong_y[i], wrong_p[i]), color = \"white\")\n",
        "  plt.imshow(im)\n",
        "plt.show()"
      ],
      "execution_count": 143,
      "outputs": [
        {
          "output_type": "display_data",
          "data": {
            "image/png": "[encoded data removed]",
            "text/plain": [
              "<Figure size 1080x1080 with 25 Axes>"
            ]
          },
          "metadata": {
            "tags": []
          }
        }
      ]
    }
  ]
}